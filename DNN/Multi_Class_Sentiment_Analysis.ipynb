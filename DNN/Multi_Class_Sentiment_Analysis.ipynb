{
  "cells": [
    {
      "cell_type": "markdown",
      "id": "1fb0f6e2",
      "metadata": {
        "id": "1fb0f6e2"
      },
      "source": [
        "\n",
        "# Multi-Class Sentiment Analysis Using Keras\n",
        "\n",
        "This notebook demonstrates a simple approach to perform multi-class sentiment analysis using the IMDb movie review dataset. The goal is to classify movie reviews into three categories: negative, neutral, and positive.\n",
        "    "
      ]
    },
    {
      "cell_type": "code",
      "source": [
        "! pip install np_utils\n"
      ],
      "metadata": {
        "colab": {
          "base_uri": "https://localhost:8080/"
        },
        "id": "QQB6J3c9MPZL",
        "outputId": "5c75d53c-a298-45d1-e04a-9c1c0369d49a"
      },
      "id": "QQB6J3c9MPZL",
      "execution_count": 2,
      "outputs": [
        {
          "output_type": "stream",
          "name": "stdout",
          "text": [
            "Collecting np_utils\n",
            "  Downloading np_utils-0.6.0.tar.gz (61 kB)\n",
            "\u001b[?25l     \u001b[90m━━━━━━━━━━━━━━━━━━━━━━━━━━━━━━━━━━━━━━━━\u001b[0m \u001b[32m0.0/62.0 kB\u001b[0m \u001b[31m?\u001b[0m eta \u001b[36m-:--:--\u001b[0m\r\u001b[2K     \u001b[90m━━━━━━━━━━━━━━━━━━━━━━━━━━━━━━━━━━━━━━━━\u001b[0m \u001b[32m62.0/62.0 kB\u001b[0m \u001b[31m2.0 MB/s\u001b[0m eta \u001b[36m0:00:00\u001b[0m\n",
            "\u001b[?25h  Preparing metadata (setup.py) ... \u001b[?25l\u001b[?25hdone\n",
            "Requirement already satisfied: numpy>=1.0 in /usr/local/lib/python3.10/dist-packages (from np_utils) (1.23.5)\n",
            "Building wheels for collected packages: np_utils\n",
            "  Building wheel for np_utils (setup.py) ... \u001b[?25l\u001b[?25hdone\n",
            "  Created wheel for np_utils: filename=np_utils-0.6.0-py3-none-any.whl size=56439 sha256=424752ba2c5ed83dd60126049a3874cdd09e80c95f03e69cb5179058794b5647\n",
            "  Stored in directory: /root/.cache/pip/wheels/b6/c7/50/2307607f44366dd021209f660045f8d51cb976514d30be7cc7\n",
            "Successfully built np_utils\n",
            "Installing collected packages: np_utils\n",
            "Successfully installed np_utils-0.6.0\n"
          ]
        }
      ]
    },
    {
      "cell_type": "code",
      "execution_count": 5,
      "id": "07aa6db2",
      "metadata": {
        "id": "07aa6db2"
      },
      "outputs": [],
      "source": [
        "\n",
        "# Import necessary libraries\n",
        "import numpy as np\n",
        "import matplotlib.pyplot as plt\n",
        "from keras.datasets import imdb\n",
        "from keras.preprocessing.sequence import pad_sequences\n",
        "from keras.models import Sequential\n",
        "from keras.layers import Dense, Embedding, Flatten\n",
        "from tensorflow.keras.utils import to_categorical"
      ]
    },
    {
      "cell_type": "markdown",
      "id": "5b25d583",
      "metadata": {
        "id": "5b25d583"
      },
      "source": [
        "\n",
        "## Load and Prepare the IMDb Dataset\n",
        "\n",
        "The IMDb dataset is loaded with a predefined vocabulary size. Reviews are then categorized into three classes based on their original sentiment score.\n",
        "    "
      ]
    },
    {
      "cell_type": "code",
      "execution_count": 12,
      "id": "1a4c5005",
      "metadata": {
        "colab": {
          "base_uri": "https://localhost:8080/"
        },
        "id": "1a4c5005",
        "outputId": "c90169d8-9175-4d56-b81a-36d87fe8a9d4"
      },
      "outputs": [
        {
          "output_type": "stream",
          "name": "stdout",
          "text": [
            "Downloading data from https://storage.googleapis.com/tensorflow/tf-keras-datasets/imdb.npz\n",
            "17464789/17464789 [==============================] - 0s 0us/step\n"
          ]
        }
      ],
      "source": [
        "\n",
        "# Load the IMDb dataset\n",
        "num_words=10000\n",
        "(X_train, y_train), (X_test, y_test) = imdb.load_data(num_words=num_words)\n",
        "\n",
        "# Function to modify labels for multi-class classification\n",
        "def modify_labels(labels):\n",
        "    labels[labels < 5] = 0  # Negative\n",
        "    labels[(labels >= 5) & (labels <= 6)] = 1  # Neutral\n",
        "    labels[labels > 6] = 2  # Positive\n",
        "    return labels\n",
        "\n",
        "# Modify training and test labels\n",
        "y_train = modify_labels(y_train)\n",
        "y_test = modify_labels(y_test)\n",
        "\n",
        "# Convert labels to one-hot vectors\n",
        "y_train = to_categorical(y_train, 3)\n",
        "y_test = to_categorical(y_test, 3)\n",
        ""
      ]
    },
    {
      "cell_type": "markdown",
      "id": "5a13180b",
      "metadata": {
        "id": "5a13180b"
      },
      "source": [
        "\n",
        "## Preprocess the Text Data\n",
        "\n",
        "Sequences of words are tokenized and padded to ensure uniform input size.\n",
        "    "
      ]
    },
    {
      "cell_type": "code",
      "execution_count": 13,
      "id": "afd00f1b",
      "metadata": {
        "id": "afd00f1b"
      },
      "outputs": [],
      "source": [
        "\n",
        "# Tokenize and pad the sequences\n",
        "maxlen = 100\n",
        "X_train = pad_sequences(X_train, maxlen=maxlen)\n",
        "X_test = pad_sequences(X_test, maxlen=maxlen)\n",
        ""
      ]
    },
    {
      "cell_type": "markdown",
      "id": "3c3d2d2c",
      "metadata": {
        "id": "3c3d2d2c"
      },
      "source": [
        "\n",
        "## Build and Compile the Model\n",
        "\n",
        "A simple neural network model is constructed with an embedding layer, a flatten layer, and an output layer for classification into three classes.\n",
        "    "
      ]
    },
    {
      "cell_type": "code",
      "execution_count": 14,
      "id": "c3f51351",
      "metadata": {
        "id": "c3f51351"
      },
      "outputs": [],
      "source": [
        "\n",
        "# Build the model\n",
        "model = Sequential()\n",
        "model.add(Embedding(num_words, 8, input_length=maxlen))\n",
        "model.add(Flatten())\n",
        "model.add(Dense(3, activation='softmax'))  # Output layer for 3 classes\n",
        "\n",
        "# Compile the model\n",
        "model.compile(optimizer='adam', loss='categorical_crossentropy', metrics=['accuracy'])\n",
        ""
      ]
    },
    {
      "cell_type": "markdown",
      "id": "d5e426c5",
      "metadata": {
        "id": "d5e426c5"
      },
      "source": [
        "\n",
        "## Train the Model\n",
        "\n",
        "The model is trained on the IMDb dataset with a validation split to monitor its performance on unseen data.\n",
        "    "
      ]
    },
    {
      "cell_type": "code",
      "execution_count": 15,
      "id": "fc681017",
      "metadata": {
        "colab": {
          "base_uri": "https://localhost:8080/"
        },
        "id": "fc681017",
        "outputId": "87f045d9-fedd-4269-d4c8-510c693437e1"
      },
      "outputs": [
        {
          "output_type": "stream",
          "name": "stdout",
          "text": [
            "Epoch 1/10\n",
            "625/625 [==============================] - 3s 4ms/step - loss: 0.0757 - accuracy: 0.9918 - val_loss: 3.9667e-04 - val_accuracy: 1.0000\n",
            "Epoch 2/10\n",
            "625/625 [==============================] - 2s 3ms/step - loss: 2.0200e-04 - accuracy: 1.0000 - val_loss: 1.0598e-04 - val_accuracy: 1.0000\n",
            "Epoch 3/10\n",
            "625/625 [==============================] - 2s 3ms/step - loss: 6.9112e-05 - accuracy: 1.0000 - val_loss: 4.6480e-05 - val_accuracy: 1.0000\n",
            "Epoch 4/10\n",
            "625/625 [==============================] - 2s 3ms/step - loss: 3.3348e-05 - accuracy: 1.0000 - val_loss: 2.4749e-05 - val_accuracy: 1.0000\n",
            "Epoch 5/10\n",
            "625/625 [==============================] - 2s 4ms/step - loss: 1.8657e-05 - accuracy: 1.0000 - val_loss: 1.4581e-05 - val_accuracy: 1.0000\n",
            "Epoch 6/10\n",
            "625/625 [==============================] - 3s 5ms/step - loss: 1.1319e-05 - accuracy: 1.0000 - val_loss: 9.1317e-06 - val_accuracy: 1.0000\n",
            "Epoch 7/10\n",
            "625/625 [==============================] - 2s 3ms/step - loss: 7.2138e-06 - accuracy: 1.0000 - val_loss: 5.9436e-06 - val_accuracy: 1.0000\n",
            "Epoch 8/10\n",
            "625/625 [==============================] - 2s 3ms/step - loss: 4.7498e-06 - accuracy: 1.0000 - val_loss: 3.9692e-06 - val_accuracy: 1.0000\n",
            "Epoch 9/10\n",
            "625/625 [==============================] - 2s 3ms/step - loss: 3.1982e-06 - accuracy: 1.0000 - val_loss: 2.6994e-06 - val_accuracy: 1.0000\n",
            "Epoch 10/10\n",
            "625/625 [==============================] - 2s 3ms/step - loss: 2.1864e-06 - accuracy: 1.0000 - val_loss: 1.8599e-06 - val_accuracy: 1.0000\n"
          ]
        }
      ],
      "source": [
        "\n",
        "# Train the model\n",
        "history = model.fit(X_train, y_train, epochs=10, batch_size=32, validation_split=0.2)\n",
        ""
      ]
    },
    {
      "cell_type": "markdown",
      "id": "e7828f80",
      "metadata": {
        "id": "e7828f80"
      },
      "source": [
        "\n",
        "## Evaluate the Model\n",
        "\n",
        "The trained model's performance is evaluated on the test set.\n",
        "    "
      ]
    },
    {
      "cell_type": "code",
      "execution_count": 16,
      "id": "4cfd4fb4",
      "metadata": {
        "colab": {
          "base_uri": "https://localhost:8080/"
        },
        "id": "4cfd4fb4",
        "outputId": "5c913a13-fad7-4555-bdd1-a6c41dcf6c65"
      },
      "outputs": [
        {
          "output_type": "stream",
          "name": "stdout",
          "text": [
            "782/782 [==============================] - 1s 2ms/step - loss: 1.8578e-06 - accuracy: 1.0000\n",
            "Test loss: 1.8578092522147927e-06\n",
            "Test accuracy: 1.0\n"
          ]
        }
      ],
      "source": [
        "\n",
        "# Evaluate the model\n",
        "score = model.evaluate(X_test, y_test)\n",
        "print('Test loss:', score[0])\n",
        "print('Test accuracy:', score[1])\n",
        ""
      ]
    },
    {
      "cell_type": "markdown",
      "id": "686c32d7",
      "metadata": {
        "id": "686c32d7"
      },
      "source": [
        "\n",
        "## Visualize Training History\n",
        "\n",
        "The accuracy and loss graphs provide insights into the model's learning over epochs.\n",
        "    "
      ]
    },
    {
      "cell_type": "code",
      "execution_count": 17,
      "id": "e6cc09dc",
      "metadata": {
        "colab": {
          "base_uri": "https://localhost:8080/",
          "height": 468
        },
        "id": "e6cc09dc",
        "outputId": "99a02bd9-a4ea-4e4c-83f5-fe09520686ee"
      },
      "outputs": [
        {
          "output_type": "display_data",
          "data": {
            "text/plain": [
              "<Figure size 1200x500 with 2 Axes>"
            ],
            "image/png": "[encoded data removed]"
          },
          "metadata": {}
        }
      ],
      "source": [
        "\n",
        "# Plot the accuracy and loss\n",
        "plt.figure(figsize=(12, 5))\n",
        "plt.subplot(1, 2, 1)\n",
        "plt.plot(history.history['accuracy'], label='Train Accuracy')\n",
        "plt.plot(history.history['val_accuracy'], label='Validation Accuracy')\n",
        "plt.title('Model Accuracy')\n",
        "plt.legend()\n",
        "\n",
        "plt.subplot(1, 2, 2)\n",
        "plt.plot(history.history['loss'], label='Train Loss')\n",
        "plt.plot(history.history['val_loss'], label='Validation Loss')\n",
        "plt.title('Model Loss')\n",
        "plt.legend()\n",
        "\n",
        "plt.show()\n"
      ]
    },
    {
      "cell_type": "code",
      "source": [],
      "metadata": {
        "id": "ekGosonbL4xD"
      },
      "id": "ekGosonbL4xD",
      "execution_count": 11,
      "outputs": []
    }
  ],
  "metadata": {
    "colab": {
      "provenance": []
    },
    "language_info": {
      "name": "python"
    },
    "kernelspec": {
      "name": "python3",
      "display_name": "Python 3"
    }
  },
  "nbformat": 4,
  "nbformat_minor": 5
}