{
  "nbformat": 4,
  "nbformat_minor": 0,
  "metadata": {
    "colab": {
      "provenance": []
    },
    "kernelspec": {
      "name": "python3",
      "display_name": "Python 3"
    },
    "language_info": {
      "name": "python"
    },
    "widgets": {
      "application/vnd.jupyter.widget-state+json": {
        "c04e07d6fcd141fd9618f9769d0379f7": {
          "model_module": "@jupyter-widgets/controls",
          "model_name": "HBoxModel",
          "model_module_version": "1.5.0",
          "state": {
            "_dom_classes": [],
            "_model_module": "@jupyter-widgets/controls",
            "_model_module_version": "1.5.0",
            "_model_name": "HBoxModel",
            "_view_count": null,
            "_view_module": "@jupyter-widgets/controls",
            "_view_module_version": "1.5.0",
            "_view_name": "HBoxView",
            "box_style": "",
            "children": [
              "IPY_MODEL_a685c2ec86e74ea3873cbe240f39e938",
              "IPY_MODEL_0db3a1fea0e24fa095d745c9dfa884ec",
              "IPY_MODEL_4a71f7a2b01648f7b654de4e7f79bbec"
            ],
            "layout": "IPY_MODEL_a47d712d7ebd4a7998dadad597ccbdfe"
          }
        },
        "a685c2ec86e74ea3873cbe240f39e938": {
          "model_module": "@jupyter-widgets/controls",
          "model_name": "HTMLModel",
          "model_module_version": "1.5.0",
          "state": {
            "_dom_classes": [],
            "_model_module": "@jupyter-widgets/controls",
            "_model_module_version": "1.5.0",
            "_model_name": "HTMLModel",
            "_view_count": null,
            "_view_module": "@jupyter-widgets/controls",
            "_view_module_version": "1.5.0",
            "_view_name": "HTMLView",
            "description": "",
            "description_tooltip": null,
            "layout": "IPY_MODEL_4501d7a72dab4622afa857e47abb2121",
            "placeholder": "​",
            "style": "IPY_MODEL_4af0ad8cdff6479b814476e0f99bf7ef",
            "value": "Done! Use &#x27;show&#x27; commands to display/save.   "
          }
        },
        "0db3a1fea0e24fa095d745c9dfa884ec": {
          "model_module": "@jupyter-widgets/controls",
          "model_name": "FloatProgressModel",
          "model_module_version": "1.5.0",
          "state": {
            "_dom_classes": [],
            "_model_module": "@jupyter-widgets/controls",
            "_model_module_version": "1.5.0",
            "_model_name": "FloatProgressModel",
            "_view_count": null,
            "_view_module": "@jupyter-widgets/controls",
            "_view_module_version": "1.5.0",
            "_view_name": "ProgressView",
            "bar_style": "success",
            "description": "",
            "description_tooltip": null,
            "layout": "IPY_MODEL_a10da8ac6b43439eb83910382b1dd0e1",
            "max": 1,
            "min": 0,
            "orientation": "horizontal",
            "style": "IPY_MODEL_41e0a85bd74d4828a814c5153439c4c8",
            "value": 1
          }
        },
        "4a71f7a2b01648f7b654de4e7f79bbec": {
          "model_module": "@jupyter-widgets/controls",
          "model_name": "HTMLModel",
          "model_module_version": "1.5.0",
          "state": {
            "_dom_classes": [],
            "_model_module": "@jupyter-widgets/controls",
            "_model_module_version": "1.5.0",
            "_model_name": "HTMLModel",
            "_view_count": null,
            "_view_module": "@jupyter-widgets/controls",
            "_view_module_version": "1.5.0",
            "_view_name": "HTMLView",
            "description": "",
            "description_tooltip": null,
            "layout": "IPY_MODEL_6d171c3802da4df68309a8231cd14dd1",
            "placeholder": "​",
            "style": "IPY_MODEL_9a534cb68fbf4e9ebd8f767ffeaf63f6",
            "value": " [100%]   00:12 -&gt; (00:00 left)"
          }
        },
        "a47d712d7ebd4a7998dadad597ccbdfe": {
          "model_module": "@jupyter-widgets/base",
          "model_name": "LayoutModel",
          "model_module_version": "1.2.0",
          "state": {
            "_model_module": "@jupyter-widgets/base",
            "_model_module_version": "1.2.0",
            "_model_name": "LayoutModel",
            "_view_count": null,
            "_view_module": "@jupyter-widgets/base",
            "_view_module_version": "1.2.0",
            "_view_name": "LayoutView",
            "align_content": null,
            "align_items": null,
            "align_self": null,
            "border": null,
            "bottom": null,
            "display": "inline-flex",
            "flex": null,
            "flex_flow": "row wrap",
            "grid_area": null,
            "grid_auto_columns": null,
            "grid_auto_flow": null,
            "grid_auto_rows": null,
            "grid_column": null,
            "grid_gap": null,
            "grid_row": null,
            "grid_template_areas": null,
            "grid_template_columns": null,
            "grid_template_rows": null,
            "height": null,
            "justify_content": null,
            "justify_items": null,
            "left": null,
            "margin": null,
            "max_height": null,
            "max_width": null,
            "min_height": null,
            "min_width": null,
            "object_fit": null,
            "object_position": null,
            "order": null,
            "overflow": null,
            "overflow_x": null,
            "overflow_y": null,
            "padding": null,
            "right": null,
            "top": null,
            "visibility": null,
            "width": "100%"
          }
        },
        "4501d7a72dab4622afa857e47abb2121": {
          "model_module": "@jupyter-widgets/base",
          "model_name": "LayoutModel",
          "model_module_version": "1.2.0",
          "state": {
            "_model_module": "@jupyter-widgets/base",
            "_model_module_version": "1.2.0",
            "_model_name": "LayoutModel",
            "_view_count": null,
            "_view_module": "@jupyter-widgets/base",
            "_view_module_version": "1.2.0",
            "_view_name": "LayoutView",
            "align_content": null,
            "align_items": null,
            "align_self": null,
            "border": null,
            "bottom": null,
            "display": null,
            "flex": null,
            "flex_flow": null,
            "grid_area": null,
            "grid_auto_columns": null,
            "grid_auto_flow": null,
            "grid_auto_rows": null,
            "grid_column": null,
            "grid_gap": null,
            "grid_row": null,
            "grid_template_areas": null,
            "grid_template_columns": null,
            "grid_template_rows": null,
            "height": null,
            "justify_content": null,
            "justify_items": null,
            "left": null,
            "margin": null,
            "max_height": null,
            "max_width": null,
            "min_height": null,
            "min_width": null,
            "object_fit": null,
            "object_position": null,
            "order": null,
            "overflow": null,
            "overflow_x": null,
            "overflow_y": null,
            "padding": null,
            "right": null,
            "top": null,
            "visibility": null,
            "width": null
          }
        },
        "4af0ad8cdff6479b814476e0f99bf7ef": {
          "model_module": "@jupyter-widgets/controls",
          "model_name": "DescriptionStyleModel",
          "model_module_version": "1.5.0",
          "state": {
            "_model_module": "@jupyter-widgets/controls",
            "_model_module_version": "1.5.0",
            "_model_name": "DescriptionStyleModel",
            "_view_count": null,
            "_view_module": "@jupyter-widgets/base",
            "_view_module_version": "1.2.0",
            "_view_name": "StyleView",
            "description_width": ""
          }
        },
        "a10da8ac6b43439eb83910382b1dd0e1": {
          "model_module": "@jupyter-widgets/base",
          "model_name": "LayoutModel",
          "model_module_version": "1.2.0",
          "state": {
            "_model_module": "@jupyter-widgets/base",
            "_model_module_version": "1.2.0",
            "_model_name": "LayoutModel",
            "_view_count": null,
            "_view_module": "@jupyter-widgets/base",
            "_view_module_version": "1.2.0",
            "_view_name": "LayoutView",
            "align_content": null,
            "align_items": null,
            "align_self": null,
            "border": null,
            "bottom": null,
            "display": null,
            "flex": "2",
            "flex_flow": null,
            "grid_area": null,
            "grid_auto_columns": null,
            "grid_auto_flow": null,
            "grid_auto_rows": null,
            "grid_column": null,
            "grid_gap": null,
            "grid_row": null,
            "grid_template_areas": null,
            "grid_template_columns": null,
            "grid_template_rows": null,
            "height": null,
            "justify_content": null,
            "justify_items": null,
            "left": null,
            "margin": null,
            "max_height": null,
            "max_width": null,
            "min_height": null,
            "min_width": null,
            "object_fit": null,
            "object_position": null,
            "order": null,
            "overflow": null,
            "overflow_x": null,
            "overflow_y": null,
            "padding": null,
            "right": null,
            "top": null,
            "visibility": null,
            "width": null
          }
        },
        "41e0a85bd74d4828a814c5153439c4c8": {
          "model_module": "@jupyter-widgets/controls",
          "model_name": "ProgressStyleModel",
          "model_module_version": "1.5.0",
          "state": {
            "_model_module": "@jupyter-widgets/controls",
            "_model_module_version": "1.5.0",
            "_model_name": "ProgressStyleModel",
            "_view_count": null,
            "_view_module": "@jupyter-widgets/base",
            "_view_module_version": "1.2.0",
            "_view_name": "StyleView",
            "bar_color": null,
            "description_width": ""
          }
        },
        "6d171c3802da4df68309a8231cd14dd1": {
          "model_module": "@jupyter-widgets/base",
          "model_name": "LayoutModel",
          "model_module_version": "1.2.0",
          "state": {
            "_model_module": "@jupyter-widgets/base",
            "_model_module_version": "1.2.0",
            "_model_name": "LayoutModel",
            "_view_count": null,
            "_view_module": "@jupyter-widgets/base",
            "_view_module_version": "1.2.0",
            "_view_name": "LayoutView",
            "align_content": null,
            "align_items": null,
            "align_self": null,
            "border": null,
            "bottom": null,
            "display": null,
            "flex": null,
            "flex_flow": null,
            "grid_area": null,
            "grid_auto_columns": null,
            "grid_auto_flow": null,
            "grid_auto_rows": null,
            "grid_column": null,
            "grid_gap": null,
            "grid_row": null,
            "grid_template_areas": null,
            "grid_template_columns": null,
            "grid_template_rows": null,
            "height": null,
            "justify_content": null,
            "justify_items": null,
            "left": null,
            "margin": null,
            "max_height": null,
            "max_width": null,
            "min_height": null,
            "min_width": null,
            "object_fit": null,
            "object_position": null,
            "order": null,
            "overflow": null,
            "overflow_x": null,
            "overflow_y": null,
            "padding": null,
            "right": null,
            "top": null,
            "visibility": null,
            "width": null
          }
        },
        "9a534cb68fbf4e9ebd8f767ffeaf63f6": {
          "model_module": "@jupyter-widgets/controls",
          "model_name": "DescriptionStyleModel",
          "model_module_version": "1.5.0",
          "state": {
            "_model_module": "@jupyter-widgets/controls",
            "_model_module_version": "1.5.0",
            "_model_name": "DescriptionStyleModel",
            "_view_count": null,
            "_view_module": "@jupyter-widgets/base",
            "_view_module_version": "1.2.0",
            "_view_name": "StyleView",
            "description_width": ""
          }
        }
      }
    }
  },
  "cells": [
    {
      "cell_type": "markdown",
      "source": [
        "# Kaggle project\n",
        "## Data understanding\n"
      ],
      "metadata": {
        "id": "SRNLCV8zonW5"
      }
    },
    {
      "cell_type": "code",
      "source": [
        "! pip install sweetviz"
      ],
      "metadata": {
        "colab": {
          "base_uri": "https://localhost:8080/"
        },
        "id": "ixoTkzrw2jPg",
        "outputId": "ebe6c553-11f4-4995-803d-9f81de0296e8"
      },
      "execution_count": 1,
      "outputs": [
        {
          "output_type": "stream",
          "name": "stdout",
          "text": [
            "Requirement already satisfied: sweetviz in /usr/local/lib/python3.10/dist-packages (2.3.1)\n",
            "Requirement already satisfied: pandas!=1.0.0,!=1.0.1,!=1.0.2,>=0.25.3 in /usr/local/lib/python3.10/dist-packages (from sweetviz) (1.5.3)\n",
            "Requirement already satisfied: numpy>=1.16.0 in /usr/local/lib/python3.10/dist-packages (from sweetviz) (1.25.2)\n",
            "Requirement already satisfied: matplotlib>=3.1.3 in /usr/local/lib/python3.10/dist-packages (from sweetviz) (3.7.1)\n",
            "Requirement already satisfied: tqdm>=4.43.0 in /usr/local/lib/python3.10/dist-packages (from sweetviz) (4.66.2)\n",
            "Requirement already satisfied: scipy>=1.3.2 in /usr/local/lib/python3.10/dist-packages (from sweetviz) (1.11.4)\n",
            "Requirement already satisfied: jinja2>=2.11.1 in /usr/local/lib/python3.10/dist-packages (from sweetviz) (3.1.3)\n",
            "Requirement already satisfied: importlib-resources>=1.2.0 in /usr/local/lib/python3.10/dist-packages (from sweetviz) (6.1.1)\n",
            "Requirement already satisfied: MarkupSafe>=2.0 in /usr/local/lib/python3.10/dist-packages (from jinja2>=2.11.1->sweetviz) (2.1.5)\n",
            "Requirement already satisfied: contourpy>=1.0.1 in /usr/local/lib/python3.10/dist-packages (from matplotlib>=3.1.3->sweetviz) (1.2.0)\n",
            "Requirement already satisfied: cycler>=0.10 in /usr/local/lib/python3.10/dist-packages (from matplotlib>=3.1.3->sweetviz) (0.12.1)\n",
            "Requirement already satisfied: fonttools>=4.22.0 in /usr/local/lib/python3.10/dist-packages (from matplotlib>=3.1.3->sweetviz) (4.48.1)\n",
            "Requirement already satisfied: kiwisolver>=1.0.1 in /usr/local/lib/python3.10/dist-packages (from matplotlib>=3.1.3->sweetviz) (1.4.5)\n",
            "Requirement already satisfied: packaging>=20.0 in /usr/local/lib/python3.10/dist-packages (from matplotlib>=3.1.3->sweetviz) (23.2)\n",
            "Requirement already satisfied: pillow>=6.2.0 in /usr/local/lib/python3.10/dist-packages (from matplotlib>=3.1.3->sweetviz) (9.4.0)\n",
            "Requirement already satisfied: pyparsing>=2.3.1 in /usr/local/lib/python3.10/dist-packages (from matplotlib>=3.1.3->sweetviz) (3.1.1)\n",
            "Requirement already satisfied: python-dateutil>=2.7 in /usr/local/lib/python3.10/dist-packages (from matplotlib>=3.1.3->sweetviz) (2.8.2)\n",
            "Requirement already satisfied: pytz>=2020.1 in /usr/local/lib/python3.10/dist-packages (from pandas!=1.0.0,!=1.0.1,!=1.0.2,>=0.25.3->sweetviz) (2023.4)\n",
            "Requirement already satisfied: six>=1.5 in /usr/local/lib/python3.10/dist-packages (from python-dateutil>=2.7->matplotlib>=3.1.3->sweetviz) (1.16.0)\n"
          ]
        }
      ]
    },
    {
      "cell_type": "code",
      "source": [
        "import pandas as pd\n",
        "import numpy as np\n",
        "import matplotlib.pyplot as plt\n",
        "import seaborn as sns\n",
        "%matplotlib inline\n",
        "from sklearn.model_selection import train_test_split"
      ],
      "metadata": {
        "id": "Q-ApPdlRoyi2"
      },
      "execution_count": 2,
      "outputs": []
    },
    {
      "cell_type": "code",
      "source": [],
      "metadata": {
        "id": "jseAPcLB4mE_"
      },
      "execution_count": 2,
      "outputs": []
    },
    {
      "cell_type": "code",
      "source": [
        "df_train = pd.read_csv(\"train.csv\")\n",
        "df_test = pd.read_csv(\"test.csv\")"
      ],
      "metadata": {
        "id": "YMAOsIvMpAj1"
      },
      "execution_count": 3,
      "outputs": []
    },
    {
      "cell_type": "code",
      "source": [
        "df_train.head()"
      ],
      "metadata": {
        "colab": {
          "base_uri": "https://localhost:8080/",
          "height": 255
        },
        "id": "zpx2OtympOmt",
        "outputId": "d06a5ba0-b143-431d-9b4e-df8c2ed3d975"
      },
      "execution_count": 4,
      "outputs": [
        {
          "output_type": "execute_result",
          "data": {
            "text/plain": [
              "   Id  MSSubClass MSZoning  LotFrontage  LotArea Street Alley LotShape  \\\n",
              "0   1          60       RL         65.0     8450   Pave   NaN      Reg   \n",
              "1   2          20       RL         80.0     9600   Pave   NaN      Reg   \n",
              "2   3          60       RL         68.0    11250   Pave   NaN      IR1   \n",
              "3   4          70       RL         60.0     9550   Pave   NaN      IR1   \n",
              "4   5          60       RL         84.0    14260   Pave   NaN      IR1   \n",
              "\n",
              "  LandContour Utilities  ... PoolArea PoolQC Fence MiscFeature MiscVal MoSold  \\\n",
              "0         Lvl    AllPub  ...        0    NaN   NaN         NaN       0      2   \n",
              "1         Lvl    AllPub  ...        0    NaN   NaN         NaN       0      5   \n",
              "2         Lvl    AllPub  ...        0    NaN   NaN         NaN       0      9   \n",
              "3         Lvl    AllPub  ...        0    NaN   NaN         NaN       0      2   \n",
              "4         Lvl    AllPub  ...        0    NaN   NaN         NaN       0     12   \n",
              "\n",
              "  YrSold  SaleType  SaleCondition  SalePrice  \n",
              "0   2008        WD         Normal     208500  \n",
              "1   2007        WD         Normal     181500  \n",
              "2   2008        WD         Normal     223500  \n",
              "3   2006        WD        Abnorml     140000  \n",
              "4   2008        WD         Normal     250000  \n",
              "\n",
              "[5 rows x 81 columns]"
            ],
            "text/html": [
              "\n",
              "  <div id=\"df-b67120c5-cd19-4346-9e2f-e9e9c46eafce\" class=\"colab-df-container\">\n",
              "    <div>\n",
              "<style scoped>\n",
              "    .dataframe tbody tr th:only-of-type {\n",
              "        vertical-align: middle;\n",
              "    }\n",
              "\n",
              "    .dataframe tbody tr th {\n",
              "        vertical-align: top;\n",
              "    }\n",
              "\n",
              "    .dataframe thead th {\n",
              "        text-align: right;\n",
              "    }\n",
              "</style>\n",
              "<table border=\"1\" class=\"dataframe\">\n",
              "  <thead>\n",
              "    <tr style=\"text-align: right;\">\n",
              "      <th></th>\n",
              "      <th>Id</th>\n",
              "      <th>MSSubClass</th>\n",
              "      <th>MSZoning</th>\n",
              "      <th>LotFrontage</th>\n",
              "      <th>LotArea</th>\n",
              "      <th>Street</th>\n",
              "      <th>Alley</th>\n",
              "      <th>LotShape</th>\n",
              "      <th>LandContour</th>\n",
              "      <th>Utilities</th>\n",
              "      <th>...</th>\n",
              "      <th>PoolArea</th>\n",
              "      <th>PoolQC</th>\n",
              "      <th>Fence</th>\n",
              "      <th>MiscFeature</th>\n",
              "      <th>MiscVal</th>\n",
              "      <th>MoSold</th>\n",
              "      <th>YrSold</th>\n",
              "      <th>SaleType</th>\n",
              "      <th>SaleCondition</th>\n",
              "      <th>SalePrice</th>\n",
              "    </tr>\n",
              "  </thead>\n",
              "  <tbody>\n",
              "    <tr>\n",
              "      <th>0</th>\n",
              "      <td>1</td>\n",
              "      <td>60</td>\n",
              "      <td>RL</td>\n",
              "      <td>65.0</td>\n",
              "      <td>8450</td>\n",
              "      <td>Pave</td>\n",
              "      <td>NaN</td>\n",
              "      <td>Reg</td>\n",
              "      <td>Lvl</td>\n",
              "      <td>AllPub</td>\n",
              "      <td>...</td>\n",
              "      <td>0</td>\n",
              "      <td>NaN</td>\n",
              "      <td>NaN</td>\n",
              "      <td>NaN</td>\n",
              "      <td>0</td>\n",
              "      <td>2</td>\n",
              "      <td>2008</td>\n",
              "      <td>WD</td>\n",
              "      <td>Normal</td>\n",
              "      <td>208500</td>\n",
              "    </tr>\n",
              "    <tr>\n",
              "      <th>1</th>\n",
              "      <td>2</td>\n",
              "      <td>20</td>\n",
              "      <td>RL</td>\n",
              "      <td>80.0</td>\n",
              "      <td>9600</td>\n",
              "      <td>Pave</td>\n",
              "      <td>NaN</td>\n",
              "      <td>Reg</td>\n",
              "      <td>Lvl</td>\n",
              "      <td>AllPub</td>\n",
              "      <td>...</td>\n",
              "      <td>0</td>\n",
              "      <td>NaN</td>\n",
              "      <td>NaN</td>\n",
              "      <td>NaN</td>\n",
              "      <td>0</td>\n",
              "      <td>5</td>\n",
              "      <td>2007</td>\n",
              "      <td>WD</td>\n",
              "      <td>Normal</td>\n",
              "      <td>181500</td>\n",
              "    </tr>\n",
              "    <tr>\n",
              "      <th>2</th>\n",
              "      <td>3</td>\n",
              "      <td>60</td>\n",
              "      <td>RL</td>\n",
              "      <td>68.0</td>\n",
              "      <td>11250</td>\n",
              "      <td>Pave</td>\n",
              "      <td>NaN</td>\n",
              "      <td>IR1</td>\n",
              "      <td>Lvl</td>\n",
              "      <td>AllPub</td>\n",
              "      <td>...</td>\n",
              "      <td>0</td>\n",
              "      <td>NaN</td>\n",
              "      <td>NaN</td>\n",
              "      <td>NaN</td>\n",
              "      <td>0</td>\n",
              "      <td>9</td>\n",
              "      <td>2008</td>\n",
              "      <td>WD</td>\n",
              "      <td>Normal</td>\n",
              "      <td>223500</td>\n",
              "    </tr>\n",
              "    <tr>\n",
              "      <th>3</th>\n",
              "      <td>4</td>\n",
              "      <td>70</td>\n",
              "      <td>RL</td>\n",
              "      <td>60.0</td>\n",
              "      <td>9550</td>\n",
              "      <td>Pave</td>\n",
              "      <td>NaN</td>\n",
              "      <td>IR1</td>\n",
              "      <td>Lvl</td>\n",
              "      <td>AllPub</td>\n",
              "      <td>...</td>\n",
              "      <td>0</td>\n",
              "      <td>NaN</td>\n",
              "      <td>NaN</td>\n",
              "      <td>NaN</td>\n",
              "      <td>0</td>\n",
              "      <td>2</td>\n",
              "      <td>2006</td>\n",
              "      <td>WD</td>\n",
              "      <td>Abnorml</td>\n",
              "      <td>140000</td>\n",
              "    </tr>\n",
              "    <tr>\n",
              "      <th>4</th>\n",
              "      <td>5</td>\n",
              "      <td>60</td>\n",
              "      <td>RL</td>\n",
              "      <td>84.0</td>\n",
              "      <td>14260</td>\n",
              "      <td>Pave</td>\n",
              "      <td>NaN</td>\n",
              "      <td>IR1</td>\n",
              "      <td>Lvl</td>\n",
              "      <td>AllPub</td>\n",
              "      <td>...</td>\n",
              "      <td>0</td>\n",
              "      <td>NaN</td>\n",
              "      <td>NaN</td>\n",
              "      <td>NaN</td>\n",
              "      <td>0</td>\n",
              "      <td>12</td>\n",
              "      <td>2008</td>\n",
              "      <td>WD</td>\n",
              "      <td>Normal</td>\n",
              "      <td>250000</td>\n",
              "    </tr>\n",
              "  </tbody>\n",
              "</table>\n",
              "<p>5 rows × 81 columns</p>\n",
              "</div>\n",
              "    <div class=\"colab-df-buttons\">\n",
              "\n",
              "  <div class=\"colab-df-container\">\n",
              "    <button class=\"colab-df-convert\" onclick=\"convertToInteractive('df-b67120c5-cd19-4346-9e2f-e9e9c46eafce')\"\n",
              "            title=\"Convert this dataframe to an interactive table.\"\n",
              "            style=\"display:none;\">\n",
              "\n",
              "  <svg xmlns=\"http://www.w3.org/2000/svg\" height=\"24px\" viewBox=\"0 -960 960 960\">\n",
              "    <path d=\"M120-120v-720h720v720H120Zm60-500h600v-160H180v160Zm220 220h160v-160H400v160Zm0 220h160v-160H400v160ZM180-400h160v-160H180v160Zm440 0h160v-160H620v160ZM180-180h160v-160H180v160Zm440 0h160v-160H620v160Z\"/>\n",
              "  </svg>\n",
              "    </button>\n",
              "\n",
              "  <style>\n",
              "    .colab-df-container {\n",
              "      display:flex;\n",
              "      gap: 12px;\n",
              "    }\n",
              "\n",
              "    .colab-df-convert {\n",
              "      background-color: #E8F0FE;\n",
              "      border: none;\n",
              "      border-radius: 50%;\n",
              "      cursor: pointer;\n",
              "      display: none;\n",
              "      fill: #1967D2;\n",
              "      height: 32px;\n",
              "      padding: 0 0 0 0;\n",
              "      width: 32px;\n",
              "    }\n",
              "\n",
              "    .colab-df-convert:hover {\n",
              "      background-color: #E2EBFA;\n",
              "      box-shadow: 0px 1px 2px rgba(60, 64, 67, 0.3), 0px 1px 3px 1px rgba(60, 64, 67, 0.15);\n",
              "      fill: #174EA6;\n",
              "    }\n",
              "\n",
              "    .colab-df-buttons div {\n",
              "      margin-bottom: 4px;\n",
              "    }\n",
              "\n",
              "    [theme=dark] .colab-df-convert {\n",
              "      background-color: #3B4455;\n",
              "      fill: #D2E3FC;\n",
              "    }\n",
              "\n",
              "    [theme=dark] .colab-df-convert:hover {\n",
              "      background-color: #434B5C;\n",
              "      box-shadow: 0px 1px 3px 1px rgba(0, 0, 0, 0.15);\n",
              "      filter: drop-shadow(0px 1px 2px rgba(0, 0, 0, 0.3));\n",
              "      fill: #FFFFFF;\n",
              "    }\n",
              "  </style>\n",
              "\n",
              "    <script>\n",
              "      const buttonEl =\n",
              "        document.querySelector('#df-b67120c5-cd19-4346-9e2f-e9e9c46eafce button.colab-df-convert');\n",
              "      buttonEl.style.display =\n",
              "        google.colab.kernel.accessAllowed ? 'block' : 'none';\n",
              "\n",
              "      async function convertToInteractive(key) {\n",
              "        const element = document.querySelector('#df-b67120c5-cd19-4346-9e2f-e9e9c46eafce');\n",
              "        const dataTable =\n",
              "          await google.colab.kernel.invokeFunction('convertToInteractive',\n",
              "                                                    [key], {});\n",
              "        if (!dataTable) return;\n",
              "\n",
              "        const docLinkHtml = 'Like what you see? Visit the ' +\n",
              "          '<a target=\"_blank\" href=https://colab.research.google.com/notebooks/data_table.ipynb>data table notebook</a>'\n",
              "          + ' to learn more about interactive tables.';\n",
              "        element.innerHTML = '';\n",
              "        dataTable['output_type'] = 'display_data';\n",
              "        await google.colab.output.renderOutput(dataTable, element);\n",
              "        const docLink = document.createElement('div');\n",
              "        docLink.innerHTML = docLinkHtml;\n",
              "        element.appendChild(docLink);\n",
              "      }\n",
              "    </script>\n",
              "  </div>\n",
              "\n",
              "\n",
              "<div id=\"df-775d5b41-8a4a-47f3-8ea9-f9a04befb0ed\">\n",
              "  <button class=\"colab-df-quickchart\" onclick=\"quickchart('df-775d5b41-8a4a-47f3-8ea9-f9a04befb0ed')\"\n",
              "            title=\"Suggest charts\"\n",
              "            style=\"display:none;\">\n",
              "\n",
              "<svg xmlns=\"http://www.w3.org/2000/svg\" height=\"24px\"viewBox=\"0 0 24 24\"\n",
              "     width=\"24px\">\n",
              "    <g>\n",
              "        <path d=\"M19 3H5c-1.1 0-2 .9-2 2v14c0 1.1.9 2 2 2h14c1.1 0 2-.9 2-2V5c0-1.1-.9-2-2-2zM9 17H7v-7h2v7zm4 0h-2V7h2v10zm4 0h-2v-4h2v4z\"/>\n",
              "    </g>\n",
              "</svg>\n",
              "  </button>\n",
              "\n",
              "<style>\n",
              "  .colab-df-quickchart {\n",
              "      --bg-color: #E8F0FE;\n",
              "      --fill-color: #1967D2;\n",
              "      --hover-bg-color: #E2EBFA;\n",
              "      --hover-fill-color: #174EA6;\n",
              "      --disabled-fill-color: #AAA;\n",
              "      --disabled-bg-color: #DDD;\n",
              "  }\n",
              "\n",
              "  [theme=dark] .colab-df-quickchart {\n",
              "      --bg-color: #3B4455;\n",
              "      --fill-color: #D2E3FC;\n",
              "      --hover-bg-color: #434B5C;\n",
              "      --hover-fill-color: #FFFFFF;\n",
              "      --disabled-bg-color: #3B4455;\n",
              "      --disabled-fill-color: #666;\n",
              "  }\n",
              "\n",
              "  .colab-df-quickchart {\n",
              "    background-color: var(--bg-color);\n",
              "    border: none;\n",
              "    border-radius: 50%;\n",
              "    cursor: pointer;\n",
              "    display: none;\n",
              "    fill: var(--fill-color);\n",
              "    height: 32px;\n",
              "    padding: 0;\n",
              "    width: 32px;\n",
              "  }\n",
              "\n",
              "  .colab-df-quickchart:hover {\n",
              "    background-color: var(--hover-bg-color);\n",
              "    box-shadow: 0 1px 2px rgba(60, 64, 67, 0.3), 0 1px 3px 1px rgba(60, 64, 67, 0.15);\n",
              "    fill: var(--button-hover-fill-color);\n",
              "  }\n",
              "\n",
              "  .colab-df-quickchart-complete:disabled,\n",
              "  .colab-df-quickchart-complete:disabled:hover {\n",
              "    background-color: var(--disabled-bg-color);\n",
              "    fill: var(--disabled-fill-color);\n",
              "    box-shadow: none;\n",
              "  }\n",
              "\n",
              "  .colab-df-spinner {\n",
              "    border: 2px solid var(--fill-color);\n",
              "    border-color: transparent;\n",
              "    border-bottom-color: var(--fill-color);\n",
              "    animation:\n",
              "      spin 1s steps(1) infinite;\n",
              "  }\n",
              "\n",
              "  @keyframes spin {\n",
              "    0% {\n",
              "      border-color: transparent;\n",
              "      border-bottom-color: var(--fill-color);\n",
              "      border-left-color: var(--fill-color);\n",
              "    }\n",
              "    20% {\n",
              "      border-color: transparent;\n",
              "      border-left-color: var(--fill-color);\n",
              "      border-top-color: var(--fill-color);\n",
              "    }\n",
              "    30% {\n",
              "      border-color: transparent;\n",
              "      border-left-color: var(--fill-color);\n",
              "      border-top-color: var(--fill-color);\n",
              "      border-right-color: var(--fill-color);\n",
              "    }\n",
              "    40% {\n",
              "      border-color: transparent;\n",
              "      border-right-color: var(--fill-color);\n",
              "      border-top-color: var(--fill-color);\n",
              "    }\n",
              "    60% {\n",
              "      border-color: transparent;\n",
              "      border-right-color: var(--fill-color);\n",
              "    }\n",
              "    80% {\n",
              "      border-color: transparent;\n",
              "      border-right-color: var(--fill-color);\n",
              "      border-bottom-color: var(--fill-color);\n",
              "    }\n",
              "    90% {\n",
              "      border-color: transparent;\n",
              "      border-bottom-color: var(--fill-color);\n",
              "    }\n",
              "  }\n",
              "</style>\n",
              "\n",
              "  <script>\n",
              "    async function quickchart(key) {\n",
              "      const quickchartButtonEl =\n",
              "        document.querySelector('#' + key + ' button');\n",
              "      quickchartButtonEl.disabled = true;  // To prevent multiple clicks.\n",
              "      quickchartButtonEl.classList.add('colab-df-spinner');\n",
              "      try {\n",
              "        const charts = await google.colab.kernel.invokeFunction(\n",
              "            'suggestCharts', [key], {});\n",
              "      } catch (error) {\n",
              "        console.error('Error during call to suggestCharts:', error);\n",
              "      }\n",
              "      quickchartButtonEl.classList.remove('colab-df-spinner');\n",
              "      quickchartButtonEl.classList.add('colab-df-quickchart-complete');\n",
              "    }\n",
              "    (() => {\n",
              "      let quickchartButtonEl =\n",
              "        document.querySelector('#df-775d5b41-8a4a-47f3-8ea9-f9a04befb0ed button');\n",
              "      quickchartButtonEl.style.display =\n",
              "        google.colab.kernel.accessAllowed ? 'block' : 'none';\n",
              "    })();\n",
              "  </script>\n",
              "</div>\n",
              "    </div>\n",
              "  </div>\n"
            ],
            "application/vnd.google.colaboratory.intrinsic+json": {
              "type": "dataframe",
              "variable_name": "df_train"
            }
          },
          "metadata": {},
          "execution_count": 4
        }
      ]
    },
    {
      "cell_type": "code",
      "source": [
        "for key,value in dict(df_train.isnull().sum()).items():\n",
        "  if int(value)>0:\n",
        "    print(key,(value/df_train.shape[0])*100)"
      ],
      "metadata": {
        "colab": {
          "base_uri": "https://localhost:8080/"
        },
        "id": "xP-uVDXrpR66",
        "outputId": "260171b0-0a5c-4fa7-b8c4-b1a2697198bd"
      },
      "execution_count": 5,
      "outputs": [
        {
          "output_type": "stream",
          "name": "stdout",
          "text": [
            "LotFrontage 17.73972602739726\n",
            "Alley 93.76712328767123\n",
            "MasVnrType 0.547945205479452\n",
            "MasVnrArea 0.547945205479452\n",
            "BsmtQual 2.5342465753424657\n",
            "BsmtCond 2.5342465753424657\n",
            "BsmtExposure 2.6027397260273974\n",
            "BsmtFinType1 2.5342465753424657\n",
            "BsmtFinType2 2.6027397260273974\n",
            "Electrical 0.0684931506849315\n",
            "FireplaceQu 47.26027397260274\n",
            "GarageType 5.5479452054794525\n",
            "GarageYrBlt 5.5479452054794525\n",
            "GarageFinish 5.5479452054794525\n",
            "GarageQual 5.5479452054794525\n",
            "GarageCond 5.5479452054794525\n",
            "PoolQC 99.52054794520548\n",
            "Fence 80.75342465753424\n",
            "MiscFeature 96.30136986301369\n"
          ]
        }
      ]
    },
    {
      "cell_type": "markdown",
      "source": [
        "### Removing columns which have missing values more then 80% and try to impute the missing values of the remaing dataset"
      ],
      "metadata": {
        "id": "1VISfia2rAwp"
      }
    },
    {
      "cell_type": "code",
      "source": [
        "columns_to_remove = [\"Alley\",\"PoolQC\",\"Fence\",\"MiscFeature\"]"
      ],
      "metadata": {
        "id": "oKJw-3Erpfcq"
      },
      "execution_count": 6,
      "outputs": []
    },
    {
      "cell_type": "code",
      "source": [],
      "metadata": {
        "id": "StRInH5x-23H"
      },
      "execution_count": 6,
      "outputs": []
    },
    {
      "cell_type": "code",
      "source": [
        "df_train.drop(columns_to_remove,axis = 1,inplace = True )\n",
        "df_test.drop(columns_to_remove,axis = 1,inplace = True)"
      ],
      "metadata": {
        "id": "oQMLo9djqh8S"
      },
      "execution_count": 7,
      "outputs": []
    },
    {
      "cell_type": "code",
      "source": [
        "## Checking if the columns are removed\n",
        "df_train.columns"
      ],
      "metadata": {
        "colab": {
          "base_uri": "https://localhost:8080/"
        },
        "id": "jNNaa1wMs2cn",
        "outputId": "ae75f30b-cb98-419e-fe1c-a2cc2b279042"
      },
      "execution_count": 8,
      "outputs": [
        {
          "output_type": "execute_result",
          "data": {
            "text/plain": [
              "Index(['Id', 'MSSubClass', 'MSZoning', 'LotFrontage', 'LotArea', 'Street',\n",
              "       'LotShape', 'LandContour', 'Utilities', 'LotConfig', 'LandSlope',\n",
              "       'Neighborhood', 'Condition1', 'Condition2', 'BldgType', 'HouseStyle',\n",
              "       'OverallQual', 'OverallCond', 'YearBuilt', 'YearRemodAdd', 'RoofStyle',\n",
              "       'RoofMatl', 'Exterior1st', 'Exterior2nd', 'MasVnrType', 'MasVnrArea',\n",
              "       'ExterQual', 'ExterCond', 'Foundation', 'BsmtQual', 'BsmtCond',\n",
              "       'BsmtExposure', 'BsmtFinType1', 'BsmtFinSF1', 'BsmtFinType2',\n",
              "       'BsmtFinSF2', 'BsmtUnfSF', 'TotalBsmtSF', 'Heating', 'HeatingQC',\n",
              "       'CentralAir', 'Electrical', '1stFlrSF', '2ndFlrSF', 'LowQualFinSF',\n",
              "       'GrLivArea', 'BsmtFullBath', 'BsmtHalfBath', 'FullBath', 'HalfBath',\n",
              "       'BedroomAbvGr', 'KitchenAbvGr', 'KitchenQual', 'TotRmsAbvGrd',\n",
              "       'Functional', 'Fireplaces', 'FireplaceQu', 'GarageType', 'GarageYrBlt',\n",
              "       'GarageFinish', 'GarageCars', 'GarageArea', 'GarageQual', 'GarageCond',\n",
              "       'PavedDrive', 'WoodDeckSF', 'OpenPorchSF', 'EnclosedPorch', '3SsnPorch',\n",
              "       'ScreenPorch', 'PoolArea', 'MiscVal', 'MoSold', 'YrSold', 'SaleType',\n",
              "       'SaleCondition', 'SalePrice'],\n",
              "      dtype='object')"
            ]
          },
          "metadata": {},
          "execution_count": 8
        }
      ]
    },
    {
      "cell_type": "markdown",
      "source": [
        "## Impute missing values with simple Mean, Mode and Later will be using some complex methods KNN."
      ],
      "metadata": {
        "id": "0HcTIivjtR6n"
      }
    },
    {
      "cell_type": "code",
      "source": [
        "#\n",
        "for key,value in dict(df_train.isnull().sum()).items():\n",
        "\n",
        "  if int(value)>0:\n",
        "    try:\n",
        "      df_train[key].fillna(df_train[key].mean(),inplace=True)\n",
        "      print(\"Imputed Using Mean for column:\",key)\n",
        "    except:\n",
        "      df_train[key].fillna(df_train[key].mode()[0], inplace=True)\n",
        "      print(\"Impurted using Mode for column:\",key)\n",
        "\n",
        "for key,value in dict(df_test.isnull().sum()).items():\n",
        "\n",
        "  if int(value)>0:\n",
        "    try:\n",
        "      df_test[key].fillna(df_test[key].mean(),inplace=True)\n",
        "      print(\"Imputed Using Mean for column:\",key)\n",
        "    except:\n",
        "      df_test[key].fillna(df_test[key].mode()[0], inplace=True)\n",
        "      print(\"Impurted using Mode for column:\",key)"
      ],
      "metadata": {
        "colab": {
          "base_uri": "https://localhost:8080/"
        },
        "id": "r7yFTF0es8VI",
        "outputId": "f9391490-a95b-4ba8-a2ff-45848ff7ef94"
      },
      "execution_count": 9,
      "outputs": [
        {
          "output_type": "stream",
          "name": "stdout",
          "text": [
            "Imputed Using Mean for column: LotFrontage\n",
            "Impurted using Mode for column: MasVnrType\n",
            "Imputed Using Mean for column: MasVnrArea\n",
            "Impurted using Mode for column: BsmtQual\n",
            "Impurted using Mode for column: BsmtCond\n",
            "Impurted using Mode for column: BsmtExposure\n",
            "Impurted using Mode for column: BsmtFinType1\n",
            "Impurted using Mode for column: BsmtFinType2\n",
            "Impurted using Mode for column: Electrical\n",
            "Impurted using Mode for column: FireplaceQu\n",
            "Impurted using Mode for column: GarageType\n",
            "Imputed Using Mean for column: GarageYrBlt\n",
            "Impurted using Mode for column: GarageFinish\n",
            "Impurted using Mode for column: GarageQual\n",
            "Impurted using Mode for column: GarageCond\n",
            "Impurted using Mode for column: MSZoning\n",
            "Imputed Using Mean for column: LotFrontage\n",
            "Impurted using Mode for column: Utilities\n",
            "Impurted using Mode for column: Exterior1st\n",
            "Impurted using Mode for column: Exterior2nd\n",
            "Impurted using Mode for column: MasVnrType\n",
            "Imputed Using Mean for column: MasVnrArea\n",
            "Impurted using Mode for column: BsmtQual\n",
            "Impurted using Mode for column: BsmtCond\n",
            "Impurted using Mode for column: BsmtExposure\n",
            "Impurted using Mode for column: BsmtFinType1\n",
            "Imputed Using Mean for column: BsmtFinSF1\n",
            "Impurted using Mode for column: BsmtFinType2\n",
            "Imputed Using Mean for column: BsmtFinSF2\n",
            "Imputed Using Mean for column: BsmtUnfSF\n",
            "Imputed Using Mean for column: TotalBsmtSF\n",
            "Imputed Using Mean for column: BsmtFullBath\n",
            "Imputed Using Mean for column: BsmtHalfBath\n",
            "Impurted using Mode for column: KitchenQual\n",
            "Impurted using Mode for column: Functional\n",
            "Impurted using Mode for column: FireplaceQu\n",
            "Impurted using Mode for column: GarageType\n",
            "Imputed Using Mean for column: GarageYrBlt\n",
            "Impurted using Mode for column: GarageFinish\n",
            "Imputed Using Mean for column: GarageCars\n",
            "Imputed Using Mean for column: GarageArea\n",
            "Impurted using Mode for column: GarageQual\n",
            "Impurted using Mode for column: GarageCond\n",
            "Impurted using Mode for column: SaleType\n"
          ]
        }
      ]
    },
    {
      "cell_type": "code",
      "source": [
        "## checking if missing values are imputed properly\n",
        "dict(df_train.isnull().sum())"
      ],
      "metadata": {
        "colab": {
          "base_uri": "https://localhost:8080/"
        },
        "id": "N3Nhx1EZt_63",
        "outputId": "2ea4b2fc-552f-4866-c304-efef77f9c918"
      },
      "execution_count": 10,
      "outputs": [
        {
          "output_type": "execute_result",
          "data": {
            "text/plain": [
              "{'Id': 0,\n",
              " 'MSSubClass': 0,\n",
              " 'MSZoning': 0,\n",
              " 'LotFrontage': 0,\n",
              " 'LotArea': 0,\n",
              " 'Street': 0,\n",
              " 'LotShape': 0,\n",
              " 'LandContour': 0,\n",
              " 'Utilities': 0,\n",
              " 'LotConfig': 0,\n",
              " 'LandSlope': 0,\n",
              " 'Neighborhood': 0,\n",
              " 'Condition1': 0,\n",
              " 'Condition2': 0,\n",
              " 'BldgType': 0,\n",
              " 'HouseStyle': 0,\n",
              " 'OverallQual': 0,\n",
              " 'OverallCond': 0,\n",
              " 'YearBuilt': 0,\n",
              " 'YearRemodAdd': 0,\n",
              " 'RoofStyle': 0,\n",
              " 'RoofMatl': 0,\n",
              " 'Exterior1st': 0,\n",
              " 'Exterior2nd': 0,\n",
              " 'MasVnrType': 0,\n",
              " 'MasVnrArea': 0,\n",
              " 'ExterQual': 0,\n",
              " 'ExterCond': 0,\n",
              " 'Foundation': 0,\n",
              " 'BsmtQual': 0,\n",
              " 'BsmtCond': 0,\n",
              " 'BsmtExposure': 0,\n",
              " 'BsmtFinType1': 0,\n",
              " 'BsmtFinSF1': 0,\n",
              " 'BsmtFinType2': 0,\n",
              " 'BsmtFinSF2': 0,\n",
              " 'BsmtUnfSF': 0,\n",
              " 'TotalBsmtSF': 0,\n",
              " 'Heating': 0,\n",
              " 'HeatingQC': 0,\n",
              " 'CentralAir': 0,\n",
              " 'Electrical': 0,\n",
              " '1stFlrSF': 0,\n",
              " '2ndFlrSF': 0,\n",
              " 'LowQualFinSF': 0,\n",
              " 'GrLivArea': 0,\n",
              " 'BsmtFullBath': 0,\n",
              " 'BsmtHalfBath': 0,\n",
              " 'FullBath': 0,\n",
              " 'HalfBath': 0,\n",
              " 'BedroomAbvGr': 0,\n",
              " 'KitchenAbvGr': 0,\n",
              " 'KitchenQual': 0,\n",
              " 'TotRmsAbvGrd': 0,\n",
              " 'Functional': 0,\n",
              " 'Fireplaces': 0,\n",
              " 'FireplaceQu': 0,\n",
              " 'GarageType': 0,\n",
              " 'GarageYrBlt': 0,\n",
              " 'GarageFinish': 0,\n",
              " 'GarageCars': 0,\n",
              " 'GarageArea': 0,\n",
              " 'GarageQual': 0,\n",
              " 'GarageCond': 0,\n",
              " 'PavedDrive': 0,\n",
              " 'WoodDeckSF': 0,\n",
              " 'OpenPorchSF': 0,\n",
              " 'EnclosedPorch': 0,\n",
              " '3SsnPorch': 0,\n",
              " 'ScreenPorch': 0,\n",
              " 'PoolArea': 0,\n",
              " 'MiscVal': 0,\n",
              " 'MoSold': 0,\n",
              " 'YrSold': 0,\n",
              " 'SaleType': 0,\n",
              " 'SaleCondition': 0,\n",
              " 'SalePrice': 0}"
            ]
          },
          "metadata": {},
          "execution_count": 10
        }
      ]
    },
    {
      "cell_type": "code",
      "source": [
        "## checking if missing values are imputed properly\n",
        "dict(df_train.dtypes)"
      ],
      "metadata": {
        "colab": {
          "base_uri": "https://localhost:8080/"
        },
        "id": "hOnAU4-2ug9s",
        "outputId": "db6f99fe-9e17-403f-ac2c-92a1fd5f9f2f"
      },
      "execution_count": 11,
      "outputs": [
        {
          "output_type": "execute_result",
          "data": {
            "text/plain": [
              "{'Id': dtype('int64'),\n",
              " 'MSSubClass': dtype('int64'),\n",
              " 'MSZoning': dtype('O'),\n",
              " 'LotFrontage': dtype('float64'),\n",
              " 'LotArea': dtype('int64'),\n",
              " 'Street': dtype('O'),\n",
              " 'LotShape': dtype('O'),\n",
              " 'LandContour': dtype('O'),\n",
              " 'Utilities': dtype('O'),\n",
              " 'LotConfig': dtype('O'),\n",
              " 'LandSlope': dtype('O'),\n",
              " 'Neighborhood': dtype('O'),\n",
              " 'Condition1': dtype('O'),\n",
              " 'Condition2': dtype('O'),\n",
              " 'BldgType': dtype('O'),\n",
              " 'HouseStyle': dtype('O'),\n",
              " 'OverallQual': dtype('int64'),\n",
              " 'OverallCond': dtype('int64'),\n",
              " 'YearBuilt': dtype('int64'),\n",
              " 'YearRemodAdd': dtype('int64'),\n",
              " 'RoofStyle': dtype('O'),\n",
              " 'RoofMatl': dtype('O'),\n",
              " 'Exterior1st': dtype('O'),\n",
              " 'Exterior2nd': dtype('O'),\n",
              " 'MasVnrType': dtype('O'),\n",
              " 'MasVnrArea': dtype('float64'),\n",
              " 'ExterQual': dtype('O'),\n",
              " 'ExterCond': dtype('O'),\n",
              " 'Foundation': dtype('O'),\n",
              " 'BsmtQual': dtype('O'),\n",
              " 'BsmtCond': dtype('O'),\n",
              " 'BsmtExposure': dtype('O'),\n",
              " 'BsmtFinType1': dtype('O'),\n",
              " 'BsmtFinSF1': dtype('int64'),\n",
              " 'BsmtFinType2': dtype('O'),\n",
              " 'BsmtFinSF2': dtype('int64'),\n",
              " 'BsmtUnfSF': dtype('int64'),\n",
              " 'TotalBsmtSF': dtype('int64'),\n",
              " 'Heating': dtype('O'),\n",
              " 'HeatingQC': dtype('O'),\n",
              " 'CentralAir': dtype('O'),\n",
              " 'Electrical': dtype('O'),\n",
              " '1stFlrSF': dtype('int64'),\n",
              " '2ndFlrSF': dtype('int64'),\n",
              " 'LowQualFinSF': dtype('int64'),\n",
              " 'GrLivArea': dtype('int64'),\n",
              " 'BsmtFullBath': dtype('int64'),\n",
              " 'BsmtHalfBath': dtype('int64'),\n",
              " 'FullBath': dtype('int64'),\n",
              " 'HalfBath': dtype('int64'),\n",
              " 'BedroomAbvGr': dtype('int64'),\n",
              " 'KitchenAbvGr': dtype('int64'),\n",
              " 'KitchenQual': dtype('O'),\n",
              " 'TotRmsAbvGrd': dtype('int64'),\n",
              " 'Functional': dtype('O'),\n",
              " 'Fireplaces': dtype('int64'),\n",
              " 'FireplaceQu': dtype('O'),\n",
              " 'GarageType': dtype('O'),\n",
              " 'GarageYrBlt': dtype('float64'),\n",
              " 'GarageFinish': dtype('O'),\n",
              " 'GarageCars': dtype('int64'),\n",
              " 'GarageArea': dtype('int64'),\n",
              " 'GarageQual': dtype('O'),\n",
              " 'GarageCond': dtype('O'),\n",
              " 'PavedDrive': dtype('O'),\n",
              " 'WoodDeckSF': dtype('int64'),\n",
              " 'OpenPorchSF': dtype('int64'),\n",
              " 'EnclosedPorch': dtype('int64'),\n",
              " '3SsnPorch': dtype('int64'),\n",
              " 'ScreenPorch': dtype('int64'),\n",
              " 'PoolArea': dtype('int64'),\n",
              " 'MiscVal': dtype('int64'),\n",
              " 'MoSold': dtype('int64'),\n",
              " 'YrSold': dtype('int64'),\n",
              " 'SaleType': dtype('O'),\n",
              " 'SaleCondition': dtype('O'),\n",
              " 'SalePrice': dtype('int64')}"
            ]
          },
          "metadata": {},
          "execution_count": 11
        }
      ]
    },
    {
      "cell_type": "code",
      "source": [
        "# calculate the correlation matrix on the numeric columns\n",
        "corr = df_train.select_dtypes('number').corr()\n",
        "\n",
        "# plot the heatmap\n",
        "sns.heatmap(corr)"
      ],
      "metadata": {
        "colab": {
          "base_uri": "https://localhost:8080/",
          "height": 539
        },
        "id": "hR02T1j8x5aY",
        "outputId": "760496d4-83dc-4cbf-a793-bd6e21e847cd"
      },
      "execution_count": 12,
      "outputs": [
        {
          "output_type": "execute_result",
          "data": {
            "text/plain": [
              "<Axes: >"
            ]
          },
          "metadata": {},
          "execution_count": 12
        },
        {
          "output_type": "display_data",
          "data": {
            "text/plain": [
              "<Figure size 640x480 with 2 Axes>"
            ],
            "image/png": "[encoded data removed]"
          },
          "metadata": {}
        }
      ]
    },
    {
      "cell_type": "code",
      "source": [
        "df_train.corr(numeric_only=True).to_csv(\"Cor.csv\")"
      ],
      "metadata": {
        "id": "SOnZwdsIyD1f"
      },
      "execution_count": 13,
      "outputs": []
    },
    {
      "cell_type": "markdown",
      "source": [
        "## No significant correlation present which are more then 95% but the ones which are 80%\n",
        "## correlated we will be handling it in our model implimentation"
      ],
      "metadata": {
        "id": "tLZyfKnfzoSQ"
      }
    },
    {
      "cell_type": "code",
      "source": [
        "## EDA\n",
        "import pandas as pd\n",
        "\n",
        "my_dataframe = pd.read_csv(\"train.csv\")\n",
        "import sweetviz as sv\n",
        "\n",
        "my_report = sv.analyze(my_dataframe)\n",
        "my_report.show_html()"
      ],
      "metadata": {
        "colab": {
          "base_uri": "https://localhost:8080/",
          "height": 86,
          "referenced_widgets": [
            "c04e07d6fcd141fd9618f9769d0379f7",
            "a685c2ec86e74ea3873cbe240f39e938",
            "0db3a1fea0e24fa095d745c9dfa884ec",
            "4a71f7a2b01648f7b654de4e7f79bbec",
            "a47d712d7ebd4a7998dadad597ccbdfe",
            "4501d7a72dab4622afa857e47abb2121",
            "4af0ad8cdff6479b814476e0f99bf7ef",
            "a10da8ac6b43439eb83910382b1dd0e1",
            "41e0a85bd74d4828a814c5153439c4c8",
            "6d171c3802da4df68309a8231cd14dd1",
            "9a534cb68fbf4e9ebd8f767ffeaf63f6"
          ]
        },
        "id": "pjSdGXyOz-2p",
        "outputId": "e6808810-94d9-4c3f-cbdd-447c215554f3"
      },
      "execution_count": 14,
      "outputs": [
        {
          "output_type": "display_data",
          "data": {
            "text/plain": [
              "                                             |          | [  0%]   00:00 -> (? left)"
            ],
            "application/vnd.jupyter.widget-view+json": {
              "version_major": 2,
              "version_minor": 0,
              "model_id": "c04e07d6fcd141fd9618f9769d0379f7"
            }
          },
          "metadata": {}
        },
        {
          "output_type": "stream",
          "name": "stdout",
          "text": [
            "Report SWEETVIZ_REPORT.html was generated! NOTEBOOK/COLAB USERS: the web browser MAY not pop up, regardless, the report IS saved in your notebook/colab files.\n"
          ]
        }
      ]
    },
    {
      "cell_type": "code",
      "source": [
        "### Pre-Processing of Data before modeling data\n",
        "from sklearn.preprocessing import LabelEncoder"
      ],
      "metadata": {
        "id": "lEbjCAqMycls"
      },
      "execution_count": 15,
      "outputs": []
    },
    {
      "cell_type": "code",
      "source": [
        "for values in df_train.columns:\n",
        "  if df_train[values].dtype==\"O\":\n",
        "    le = LabelEncoder()\n",
        "    le.fit(df_train[values])\n",
        "    df_train[values] = le.transform(df_train[values])\n",
        "\n",
        "for values in df_test.columns:\n",
        "  if df_test[values].dtype==\"O\":\n",
        "    le = LabelEncoder()\n",
        "    le.fit(df_test[values])\n",
        "    df_test[values] = le.transform(df_test[values])"
      ],
      "metadata": {
        "id": "ehNlCtkA3Zkc"
      },
      "execution_count": 16,
      "outputs": []
    },
    {
      "cell_type": "code",
      "source": [
        "X_train, X_test, y_train, y_test = train_test_split(df_train.drop(['SalePrice'],axis=1),df_train['SalePrice'], test_size=0.20, random_state=1)"
      ],
      "metadata": {
        "id": "ogppHshc3xRc"
      },
      "execution_count": 17,
      "outputs": []
    },
    {
      "cell_type": "code",
      "source": [],
      "metadata": {
        "id": "hcKpO4AEATKd"
      },
      "execution_count": null,
      "outputs": []
    },
    {
      "cell_type": "code",
      "source": [
        "from sklearn.linear_model import Ridge\n",
        "from sklearn.linear_model import Lasso\n",
        "from sklearn.linear_model import ElasticNet\n",
        "from sklearn import metrics\n",
        "\n",
        "#Lasso\n",
        "model_lasso = Lasso(alpha=0.01)\n",
        "model_lasso.fit(X_train, y_train)\n",
        "\n",
        "pred_test_lasso= model_lasso.predict(X_test)"
      ],
      "metadata": {
        "id": "HLHNle854UrQ"
      },
      "execution_count": 18,
      "outputs": []
    },
    {
      "cell_type": "code",
      "source": [
        "print('Root Mean Squared Error:', metrics.mean_squared_log_error(pred_test_lasso, y_test))"
      ],
      "metadata": {
        "colab": {
          "base_uri": "https://localhost:8080/"
        },
        "id": "GSUJULCN5W8o",
        "outputId": "bfaeec83-9b2a-413e-a8ee-bcbbce68f4be"
      },
      "execution_count": 19,
      "outputs": [
        {
          "output_type": "stream",
          "name": "stdout",
          "text": [
            "Root Mean Squared Error: 0.03130528595203469\n"
          ]
        }
      ]
    },
    {
      "cell_type": "code",
      "source": [
        "from sklearn.model_selection import cross_val_score"
      ],
      "metadata": {
        "id": "kg35sGCH5Yf-"
      },
      "execution_count": 20,
      "outputs": []
    },
    {
      "cell_type": "code",
      "source": [
        "reg_model = Lasso(alpha=0.01)"
      ],
      "metadata": {
        "id": "8ALVHX6T7u-9"
      },
      "execution_count": 25,
      "outputs": []
    },
    {
      "cell_type": "code",
      "source": [
        "import numpy as np\n",
        "from sklearn.metrics import make_scorer\n",
        "\n",
        "def mse_logerror(y_true, y_pred):\n",
        "    # Calculate the mean of the true values\n",
        "    res = metrics.mean_squared_log_error(y_true, y_pred)\n",
        "\n",
        "    return res\n",
        "\n",
        "from sklearn.metrics import make_scorer\n",
        "\n",
        "mse_lerror = make_scorer(mse_logerror)\n",
        "mse_lerror"
      ],
      "metadata": {
        "colab": {
          "base_uri": "https://localhost:8080/"
        },
        "id": "i13EQhWN9Uwz",
        "outputId": "f8764c0b-cbd5-4a8e-bdfb-64f372f0ed1d"
      },
      "execution_count": 22,
      "outputs": [
        {
          "output_type": "execute_result",
          "data": {
            "text/plain": [
              "make_scorer(mse_logerror)"
            ]
          },
          "metadata": {},
          "execution_count": 22
        }
      ]
    },
    {
      "cell_type": "code",
      "source": [
        "scores = cross_val_score(reg_model,X_train, y_train, cv=10,scoring=mse_lerror)"
      ],
      "metadata": {
        "colab": {
          "base_uri": "https://localhost:8080/"
        },
        "id": "I6I792-P72br",
        "outputId": "ee7fc053-9718-4043-fd95-e5d737a83926"
      },
      "execution_count": 23,
      "outputs": [
        {
          "output_type": "stream",
          "name": "stderr",
          "text": [
            "/usr/local/lib/python3.10/dist-packages/sklearn/linear_model/_coordinate_descent.py:631: ConvergenceWarning: Objective did not converge. You might want to increase the number of iterations, check the scale of the features or consider increasing regularisation. Duality gap: 5.414e+10, tolerance: 6.372e+08\n",
            "  model = cd_fast.enet_coordinate_descent(\n",
            "/usr/local/lib/python3.10/dist-packages/sklearn/linear_model/_coordinate_descent.py:631: ConvergenceWarning: Objective did not converge. You might want to increase the number of iterations, check the scale of the features or consider increasing regularisation. Duality gap: 5.789e+10, tolerance: 6.276e+08\n",
            "  model = cd_fast.enet_coordinate_descent(\n"
          ]
        }
      ]
    },
    {
      "cell_type": "code",
      "source": [
        "scores"
      ],
      "metadata": {
        "colab": {
          "base_uri": "https://localhost:8080/"
        },
        "id": "TMAwtq36_8A2",
        "outputId": "425b5706-eba7-40a9-8ebe-ef192cadfd43"
      },
      "execution_count": 24,
      "outputs": [
        {
          "output_type": "execute_result",
          "data": {
            "text/plain": [
              "array([0.02827826, 0.04901126, 0.03205777, 0.03555418, 0.02972263,\n",
              "       0.0636618 , 0.02060277, 0.0268303 , 0.01790996, 0.01513881])"
            ]
          },
          "metadata": {},
          "execution_count": 24
        }
      ]
    },
    {
      "cell_type": "code",
      "source": [
        "### Creating final model"
      ],
      "metadata": {
        "id": "UbqihR_T_5Iz"
      },
      "execution_count": null,
      "outputs": []
    },
    {
      "cell_type": "code",
      "source": [
        "reg_model = Lasso(alpha=0.01)\n",
        "\n",
        "reg_model.fit(df_train.drop(['SalePrice'],axis=1),df_train['SalePrice'])\n",
        "\n",
        "pred_test_lasso= reg_model.predict(df_test)"
      ],
      "metadata": {
        "id": "WiNxXJB-8Mwa"
      },
      "execution_count": 26,
      "outputs": []
    },
    {
      "cell_type": "code",
      "source": [
        "pred_test_lasso"
      ],
      "metadata": {
        "colab": {
          "base_uri": "https://localhost:8080/"
        },
        "id": "9Zh8DWix8QFI",
        "outputId": "77c60971-784b-4ee4-a697-38f71b1ddfc8"
      },
      "execution_count": 27,
      "outputs": [
        {
          "output_type": "execute_result",
          "data": {
            "text/plain": [
              "array([104216.18059811, 150375.09205063, 164566.34744438, ...,\n",
              "       137334.76693357, 111205.26902784, 237919.38671855])"
            ]
          },
          "metadata": {},
          "execution_count": 27
        }
      ]
    },
    {
      "cell_type": "code",
      "source": [
        "df_Final_pred = pd.DataFrame({\"Id\":df_test[\"Id\"],\"SalePrice\":pred_test_lasso})"
      ],
      "metadata": {
        "id": "jtdR7lVd85Tq"
      },
      "execution_count": 30,
      "outputs": []
    },
    {
      "cell_type": "code",
      "source": [
        "df_Final_pred.to_csv(\"busyqa_1stdraft.csv\",index = False)"
      ],
      "metadata": {
        "id": "Qu7xhKCWAh-c"
      },
      "execution_count": 31,
      "outputs": []
    },
    {
      "cell_type": "code",
      "source": [],
      "metadata": {
        "id": "fVWeiSUkBMhw"
      },
      "execution_count": null,
      "outputs": []
    }
  ]
}