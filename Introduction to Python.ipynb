{
 "cells": [
  {
   "cell_type": "markdown",
   "metadata": {},
   "source": [
    "# What is a programming language?"
   ]
  },
  {
   "cell_type": "markdown",
   "metadata": {},
   "source": [
    "A programming language is a notation designed to connect instructions to a machine or a computer. Programming languages are mainly  used to control the performance of a machine or to express algorithms."
   ]
  },
  {
   "cell_type": "markdown",
   "metadata": {},
   "source": [
    "# What is Python?"
   ]
  },
  {
   "cell_type": "markdown",
   "metadata": {
    "ExecuteTime": {
     "end_time": "2020-02-01T04:56:04.912413Z",
     "start_time": "2020-02-01T04:56:04.906428Z"
    }
   },
   "source": [
    "Python is a general purpose programming language that combines the features of C and Java. It offers elegant style of developing programs like C."
   ]
  },
  {
   "cell_type": "code",
   "execution_count": 4,
   "metadata": {
    "ExecuteTime": {
     "end_time": "2020-02-01T05:08:50.442314Z",
     "start_time": "2020-02-01T05:08:50.438232Z"
    }
   },
   "outputs": [
    {
     "name": "stdout",
     "output_type": "stream",
     "text": [
      "Sum =  20\n"
     ]
    }
   ],
   "source": [
    "# For example:\n",
    "\n",
    "#Python program to add two numbers\n",
    "a = b = 10 # Takes two variables and store 10 in to them\n",
    "\n",
    "print(\"Sum = \", (a+b)) #display their sum"
   ]
  },
  {
   "cell_type": "markdown",
   "metadata": {},
   "source": [
    "# Features of Python"
   ]
  },
  {
   "cell_type": "markdown",
   "metadata": {},
   "source": [
    "- Simple: Python is a simple programming language. When we read a Python program, we feel reading English sentences.\n",
    "\n",
    "\n",
    "- Easy to learn: Python uses very few keywords and follow simple structure. Keywords are the reserved words in Python. We cannot use a keyword as variable name, function name or any other identifier.\n",
    "\n",
    "\n",
    "- Open Source: There is no need to pay for Python software.\n",
    "\n",
    "\n",
    "- High level language: Programming languages are of two types: low level and high level. A low level language uses machine code instructions to develop prgrams. These instructions directly interact with CPU. Machine language and assembly language are called low level languages. High level languages use English words to develop programs. They are easy to learn and use.\n",
    "\n",
    "\n",
    "- Dynamically typed: In Python we do not declare anything. An assignment statement binds a name to an object, and the object can be of any type. If a name is assigned to an object of one type, it may later be assigned to an object of a different type.\n",
    "\n",
    "\n",
    "- Procedure and object oriented: Python is a procedure oriented as well as an object oriented programming language."
   ]
  },
  {
   "cell_type": "markdown",
   "metadata": {},
   "source": [
    "# Understanding Python"
   ]
  },
  {
   "cell_type": "markdown",
   "metadata": {},
   "source": [
    "## Variables"
   ]
  },
  {
   "cell_type": "markdown",
   "metadata": {},
   "source": [
    "Variables are containers for storing data values. Unlike other programming languages, Python has no command for declaring a variable. A variable is created the moment you first assign a value to it. A variable uses a memory location in the RAM."
   ]
  },
  {
   "cell_type": "markdown",
   "metadata": {},
   "source": [
    "\n",
    "A = 5 # This creates a new integer type variable \n",
    "\n",
    "B = 5.5 # This creates a new float type variable\n"
   ]
  },
  {
   "cell_type": "markdown",
   "metadata": {},
   "source": [
    "## Operators"
   ]
  },
  {
   "cell_type": "markdown",
   "metadata": {},
   "source": [
    "Operators are the constructs which can manipulate the value of operands.\n",
    "\n",
    "Consider the expression 4 + 5 = 9. Here, 4 and 5 are called operands and + is called operator."
   ]
  },
  {
   "cell_type": "markdown",
   "metadata": {},
   "source": [
    "Python language supports the following types of operators.\n",
    "\t\n",
    "- Arithmetic Operators\n",
    "- Comparison (Relational) Operators\n",
    "- Logical Operators\n",
    "\n",
    "\n",
    "<b>Assume 'a' holds 10 and variable 'b' holds 20.</b>\n"
   ]
  },
  {
   "cell_type": "markdown",
   "metadata": {},
   "source": [
    "### Arithmetic Operators"
   ]
  },
  {
   "cell_type": "markdown",
   "metadata": {},
   "source": [
    "Arithmetic Operators perform various arithmetic calculations like addition, subtraction, multiplication, division, %modulus, exponent, etc."
   ]
  },
  {
   "cell_type": "markdown",
   "metadata": {
    "ExecuteTime": {
     "end_time": "2020-02-01T05:46:17.703901Z",
     "start_time": "2020-02-01T05:46:17.692929Z"
    }
   },
   "source": [
    "<table class=\"table table-bordered table-hover table-condensed\" align='centre'>\n",
    "    \n",
    "<thead><tr><th title=\"Field #1\">Operator</th>\n",
    "<th title=\"Field #2\">Example</th>\n",
    "</tr></thead>\n",
    "<tbody><tr>\n",
    "<td>+ Addition</td>\n",
    "<td>a + b = 30</td>\n",
    "</tr>\n",
    "<tr>\n",
    "<td>- Subtraction</td>\n",
    "<td>a – b = -10</td>\n",
    "</tr>\n",
    "<tr>\n",
    "<td>* Multiplication</td>\n",
    "<td>a * b = 200</td>\n",
    "</tr>\n",
    "<tr>\n",
    "<td>/ Division</td>\n",
    "<td>b / a = 2</td>\n",
    "</tr>\n",
    "<tr>\n",
    "<td>% Modulus</td>\n",
    "<td>b % a = 0</td>\n",
    "</tr>\n",
    "<tr>\n",
    "<td>** Exponent</td>\n",
    "<td>a**b =10 to the power 20</td>\n",
    "</tr>\n",
    "<tr>\n",
    "<td>//</td>\n",
    "<td>9//2 = 4 and 9.0//2.0 = 4.0, -11//3 = -4, -11.0//3 = -4.0</td>\n",
    "</tr>\n",
    "</tbody></table>"
   ]
  },
  {
   "cell_type": "markdown",
   "metadata": {},
   "source": [
    "### Comparison Operators"
   ]
  },
  {
   "cell_type": "markdown",
   "metadata": {},
   "source": [
    "These operators compare the values on either side of the operand and determine the relation between them. It is also referred as relational operators."
   ]
  },
  {
   "cell_type": "markdown",
   "metadata": {},
   "source": [
    "<table class=\"table table-bordered table-hover table-condensed\">\n",
    "<thead><tr><th title=\"Field #1\">Operator</th>\n",
    "<th title=\"Field #2\">Example</th>\n",
    "</tr></thead>\n",
    "<tbody><tr>\n",
    "<td>==</td>\n",
    "<td>(a == b) is not true.</td>\n",
    "</tr>\n",
    "<tr>\n",
    "<td>!=</td>\n",
    "<td>(a != b) is true.</td>\n",
    "</tr>\n",
    "<tr>\n",
    "<td>&lt;&gt; </td>\n",
    "<td>(a &lt;&gt; b) is true. This is similar to != operator.</td>\n",
    "</tr>\n",
    "<tr>\n",
    "<td>&gt; </td>\n",
    "<td>(a &gt; b) is not true.</td>\n",
    "</tr>\n",
    "<tr>\n",
    "<td>&lt; </td>\n",
    "<td>(a &lt; b) is true.</td>\n",
    "</tr>\n",
    "<tr>\n",
    "<td>&gt;=</td>\n",
    "<td>(a &gt;= b) is not true.</td>\n",
    "</tr>\n",
    "<tr>\n",
    "<td>&lt;=</td>\n",
    "<td>(a &lt;= b) is true.</td>\n",
    "</tr>\n",
    "</tbody></table>"
   ]
  },
  {
   "cell_type": "markdown",
   "metadata": {},
   "source": [
    "### Logical Operators"
   ]
  },
  {
   "cell_type": "markdown",
   "metadata": {},
   "source": [
    "Logical operators in Python are used for conditional statements are true or false. Logical operators in Python are AND, OR and NOT. "
   ]
  },
  {
   "cell_type": "markdown",
   "metadata": {},
   "source": [
    "For logical operators following condition are applied.\n",
    "\n",
    "- For AND operator – It returns TRUE if both the operands (right side and left side) are true\n",
    "- For OR operator- It returns TRUE if either of the operand (right side or left side) is true\n",
    "- For NOT operator- returns TRUE if operand is false"
   ]
  },
  {
   "cell_type": "code",
   "execution_count": 16,
   "metadata": {
    "ExecuteTime": {
     "end_time": "2020-02-01T06:01:19.327658Z",
     "start_time": "2020-02-01T06:01:19.324473Z"
    }
   },
   "outputs": [],
   "source": [
    "a = True\n",
    "b = False"
   ]
  },
  {
   "cell_type": "markdown",
   "metadata": {},
   "source": [
    "<table class=\"table table-bordered table-hover table-condensed\">\n",
    "<thead><tr><th title=\"Field #1\">Operator</th>\n",
    "<th title=\"Field #2\">Example</th>\n",
    "</tr></thead>\n",
    "<tbody><tr>\n",
    "<td>and Logical AND</td>\n",
    "<td>(a and b) is true.</td>\n",
    "</tr>\n",
    "<tr>\n",
    "<td>or Logical OR</td>\n",
    "<td>(a or b) is true.</td>\n",
    "</tr>\n",
    "<tr>\n",
    "<td>not Logical NOT</td>\n",
    "<td>Not(a and b) is false.</td>\n",
    "</tr>\n",
    "</tbody></table>"
   ]
  },
  {
   "cell_type": "markdown",
   "metadata": {},
   "source": [
    "## Keywords"
   ]
  },
  {
   "cell_type": "markdown",
   "metadata": {},
   "source": [
    "Keywords are the reserved words in Python. We cannot use a keyword as variable name, function name or any other identifier."
   ]
  },
  {
   "cell_type": "code",
   "execution_count": 20,
   "metadata": {
    "ExecuteTime": {
     "end_time": "2020-02-01T06:04:23.374852Z",
     "start_time": "2020-02-01T06:04:23.370863Z"
    }
   },
   "outputs": [
    {
     "name": "stdout",
     "output_type": "stream",
     "text": [
      "['False', 'None', 'True', 'and', 'as', 'assert', 'break', 'class', 'continue', 'def', 'del', 'elif', 'else', 'except', 'finally', 'for', 'from', 'global', 'if', 'import', 'in', 'is', 'lambda', 'nonlocal', 'not', 'or', 'pass', 'raise', 'return', 'try', 'while', 'with', 'yield']\n"
     ]
    }
   ],
   "source": [
    "import keyword\n",
    "print(keyword.kwlist)"
   ]
  },
  {
   "cell_type": "markdown",
   "metadata": {
    "ExecuteTime": {
     "end_time": "2020-02-01T06:04:36.100598Z",
     "start_time": "2020-02-01T06:04:36.094615Z"
    }
   },
   "source": [
    "Link: https://www.programiz.com/python-programming/keyword-list"
   ]
  },
  {
   "cell_type": "markdown",
   "metadata": {},
   "source": [
    "# Writing Our First Python Program"
   ]
  },
  {
   "cell_type": "code",
   "execution_count": 44,
   "metadata": {
    "ExecuteTime": {
     "end_time": "2020-02-01T06:24:51.925515Z",
     "start_time": "2020-02-01T06:24:44.010185Z"
    }
   },
   "outputs": [
    {
     "name": "stdout",
     "output_type": "stream",
     "text": [
      "Hello\n",
      "World!\n",
      "\n",
      "Hello World!\n"
     ]
    }
   ],
   "source": [
    "a = input() #write \"Hello\"\n",
    "b = input() #write \"World!\"\n",
    "c = a + ' ' + b #string concatenation\n",
    "\n",
    "print (\"\\n\"+c)"
   ]
  },
  {
   "cell_type": "code",
   "execution_count": 45,
   "metadata": {
    "ExecuteTime": {
     "end_time": "2020-02-01T06:28:13.125633Z",
     "start_time": "2020-02-01T06:28:13.120684Z"
    }
   },
   "outputs": [
    {
     "name": "stdout",
     "output_type": "stream",
     "text": [
      "Sum =  25\n"
     ]
    }
   ],
   "source": [
    "# program to add two numbers\n",
    "a = 10 # store 10 into variable 'a'\n",
    "b = 15 # store 15 into variable 'b'\n",
    "c = a + b # add 10 and 15 and store into variable 'c'\n",
    "\n",
    "print(\"Sum = \", c) #display the sum"
   ]
  },
  {
   "cell_type": "markdown",
   "metadata": {},
   "source": [
    "# Control Statements"
   ]
  },
  {
   "cell_type": "markdown",
   "metadata": {},
   "source": [
    "## if statement"
   ]
  },
  {
   "cell_type": "markdown",
   "metadata": {},
   "source": [
    "This statement is used to execute one or more statement depending on whether a condition is True or not."
   ]
  },
  {
   "cell_type": "raw",
   "metadata": {},
   "source": [
    "if condition:\n",
    "   statement(s)"
   ]
  },
  {
   "cell_type": "code",
   "execution_count": 58,
   "metadata": {
    "ExecuteTime": {
     "end_time": "2020-02-01T06:53:39.476831Z",
     "start_time": "2020-02-01T06:53:39.473277Z"
    }
   },
   "outputs": [
    {
     "name": "stdout",
     "output_type": "stream",
     "text": [
      "One\n"
     ]
    }
   ],
   "source": [
    "# example\n",
    "\n",
    "num = 1\n",
    "if num==1:\n",
    "    print(\"One\")\n",
    "    \n",
    "if num>1:\n",
    "    print('This is will not get printed')"
   ]
  },
  {
   "cell_type": "markdown",
   "metadata": {},
   "source": [
    "## if... else statement"
   ]
  },
  {
   "cell_type": "markdown",
   "metadata": {
    "ExecuteTime": {
     "end_time": "2020-02-01T06:40:07.709262Z",
     "start_time": "2020-02-01T06:40:07.703320Z"
    }
   },
   "source": [
    "The if... else statement executes a group of statements when a condition is True; otherwise, it will execute another group of statements."
   ]
  },
  {
   "cell_type": "raw",
   "metadata": {
    "ExecuteTime": {
     "end_time": "2020-02-01T06:40:45.227698Z",
     "start_time": "2020-02-01T06:40:45.219670Z"
    }
   },
   "source": [
    "if condition:\n",
    "   statement(s)\n",
    "else:\n",
    "   statement(s)"
   ]
  },
  {
   "cell_type": "code",
   "execution_count": 57,
   "metadata": {
    "ExecuteTime": {
     "end_time": "2020-02-01T06:48:10.853759Z",
     "start_time": "2020-02-01T06:48:10.849233Z"
    }
   },
   "outputs": [
    {
     "name": "stdout",
     "output_type": "stream",
     "text": [
      "10 is even number\n"
     ]
    }
   ],
   "source": [
    "# to know if a given number is even or odd\n",
    "\n",
    "x=10\n",
    "if x%2 == 0:\n",
    "    print(x, \"is even number\")\n",
    "else:\n",
    "    print(x,\"is odd number\")"
   ]
  },
  {
   "cell_type": "markdown",
   "metadata": {},
   "source": [
    "## if... elif... else statement"
   ]
  },
  {
   "cell_type": "markdown",
   "metadata": {},
   "source": [
    "Sometimes, the programmer has to test multiple conditions and execute statements depending on those conditions. if..elif... else statement is useful in such situations."
   ]
  },
  {
   "cell_type": "raw",
   "metadata": {},
   "source": [
    "if condition1:\n",
    "   statement(s)\n",
    "   \n",
    "elif condition2:\n",
    "   statement(s)\n",
    "   \n",
    "elif condition3:\n",
    "   statement(s)\n",
    "   \n",
    "else:\n",
    "   statement(s)"
   ]
  },
  {
   "cell_type": "code",
   "execution_count": 56,
   "metadata": {
    "ExecuteTime": {
     "end_time": "2020-02-01T06:47:29.103050Z",
     "start_time": "2020-02-01T06:47:29.097066Z"
    }
   },
   "outputs": [
    {
     "name": "stdout",
     "output_type": "stream",
     "text": [
      "-5 is negative\n"
     ]
    }
   ],
   "source": [
    "# to know if a given number is xero or +ve or -ve\n",
    "\n",
    "num = -5\n",
    "if num == 0:\n",
    "    print(num,\"is zero\")\n",
    "elif num>0:\n",
    "    print(num,\"is postive\")\n",
    "else:\n",
    "    print(num,\"is negative\")"
   ]
  },
  {
   "cell_type": "markdown",
   "metadata": {},
   "source": [
    "## while Loop"
   ]
  },
  {
   "cell_type": "markdown",
   "metadata": {},
   "source": [
    "A statement is executed only once from top to bottom. For example, 'if' is a statement that is executed by Python only once. but a loop is useful to execute repeatedly."
   ]
  },
  {
   "cell_type": "raw",
   "metadata": {},
   "source": [
    "while condition:\n",
    "    statements"
   ]
  },
  {
   "cell_type": "code",
   "execution_count": 60,
   "metadata": {
    "ExecuteTime": {
     "end_time": "2020-02-01T07:08:47.367552Z",
     "start_time": "2020-02-01T07:08:47.352579Z"
    }
   },
   "outputs": [
    {
     "name": "stdout",
     "output_type": "stream",
     "text": [
      "1\n",
      "2\n",
      "3\n",
      "4\n",
      "5\n",
      "6\n",
      "7\n",
      "8\n",
      "9\n",
      "10\n",
      "End\n"
     ]
    }
   ],
   "source": [
    "# to display numbers from 1 to 10\n",
    "x = 1\n",
    "while x<= 10:\n",
    "    print(x)\n",
    "    x+=1\n",
    "print(\"End\")"
   ]
  },
  {
   "cell_type": "markdown",
   "metadata": {},
   "source": [
    "## for Loop"
   ]
  },
  {
   "cell_type": "markdown",
   "metadata": {},
   "source": [
    "The for loop is useful to iterate over the elements of a sequence. It means the for loop can be used to execute a group of statements repeatedly depending upon the number of elements in the sequence."
   ]
  },
  {
   "cell_type": "raw",
   "metadata": {},
   "source": [
    "for var in sequence:\n",
    "    statements"
   ]
  },
  {
   "cell_type": "code",
   "execution_count": 61,
   "metadata": {
    "ExecuteTime": {
     "end_time": "2020-02-01T07:15:34.592508Z",
     "start_time": "2020-02-01T07:15:34.587520Z"
    }
   },
   "outputs": [
    {
     "name": "stdout",
     "output_type": "stream",
     "text": [
      "H\n",
      "e\n",
      "l\n",
      "l\n",
      "o\n",
      " \n",
      "W\n",
      "o\n",
      "r\n",
      "l\n",
      "d\n",
      "!\n"
     ]
    }
   ],
   "source": [
    "# to display each charater from a string\n",
    "\n",
    "str = \"Hello World!\"\n",
    "for ch in str:\n",
    "    print(ch)"
   ]
  },
  {
   "cell_type": "markdown",
   "metadata": {},
   "source": [
    "A while loop will “do” something as long as or until a condition is met.\n",
    "\n",
    "A for loop will “do” something to everything which you wish to iterate through."
   ]
  },
  {
   "cell_type": "markdown",
   "metadata": {},
   "source": [
    "# Exercise"
   ]
  },
  {
   "cell_type": "markdown",
   "metadata": {},
   "source": [
    "## Question 1:\n",
    "Take values of length and breadth of a rectangle from user and check if it is square or not."
   ]
  },
  {
   "cell_type": "code",
   "execution_count": 71,
   "metadata": {
    "ExecuteTime": {
     "end_time": "2020-02-01T07:41:16.325542Z",
     "start_time": "2020-02-01T07:41:09.733304Z"
    }
   },
   "outputs": [
    {
     "name": "stdout",
     "output_type": "stream",
     "text": [
      "Enter length\n",
      "10\n",
      "Enter breadth\n",
      "10\n",
      "Yes, it is square\n"
     ]
    }
   ],
   "source": [
    "print(\"Enter length\")\n",
    "length = input()\n",
    "\n",
    "print(\"Enter breadth\")\n",
    "breadth = input()\n",
    "\n",
    "if length == breadth:\n",
    "    print(\"Yes, it is square\")\n",
    "else:\n",
    "    print(\"No, it is a Rectangle\")"
   ]
  },
  {
   "cell_type": "markdown",
   "metadata": {},
   "source": [
    "## Question 2:\n",
    "Take two int values from user and print greatest among them."
   ]
  },
  {
   "cell_type": "code",
   "execution_count": 70,
   "metadata": {
    "ExecuteTime": {
     "end_time": "2020-02-01T07:39:01.812903Z",
     "start_time": "2020-02-01T07:38:57.193267Z"
    }
   },
   "outputs": [
    {
     "name": "stdout",
     "output_type": "stream",
     "text": [
      "Enter first number\n",
      "20\n",
      "Enter second number\n",
      "30\n",
      "Greatest is 30\n"
     ]
    }
   ],
   "source": [
    "print(\"Enter first number\")\n",
    "first = input()\n",
    "\n",
    "print(\"Enter second number\")\n",
    "second = input()\n",
    "\n",
    "if first>second:\n",
    "    print(\"Greatest is\",first)\n",
    "elif second>first:\n",
    "    print(\"Greatest is\",second)\n",
    "else:\n",
    "    print(\"Both are equal\")"
   ]
  },
  {
   "cell_type": "markdown",
   "metadata": {},
   "source": [
    "## Question 3:\n",
    "Accept two int values from the user and return their product. If the product is greater than 1000, then return their sum."
   ]
  },
  {
   "cell_type": "code",
   "execution_count": 68,
   "metadata": {
    "ExecuteTime": {
     "end_time": "2020-02-01T07:35:51.137405Z",
     "start_time": "2020-02-01T07:35:47.871115Z"
    }
   },
   "outputs": [
    {
     "name": "stdout",
     "output_type": "stream",
     "text": [
      "Enter first number\n",
      "10\n",
      "Enter second number\n",
      "10\n",
      "Product:  100\n"
     ]
    }
   ],
   "source": [
    "print(\"Enter first number\")\n",
    "a = int(input())\n",
    "print(\"Enter second number\")\n",
    "b = int(input())\n",
    "c= a*b\n",
    "\n",
    "if c>1000:\n",
    "    print(\"Sum:\", a+b)\n",
    "else:\n",
    "    print(\"Product: \", c)"
   ]
  },
  {
   "cell_type": "markdown",
   "metadata": {},
   "source": [
    "## Question 4:\n",
    "A shop will give discount of 10% if the cost of purchased items is more than 1000. Suppose, one unit of an item will cost 100.\n",
    "Ask user for the number of units of the item. Calculate and print total cost for the user."
   ]
  },
  {
   "cell_type": "code",
   "execution_count": 75,
   "metadata": {
    "ExecuteTime": {
     "end_time": "2020-02-01T07:47:13.002078Z",
     "start_time": "2020-02-01T07:47:11.065819Z"
    }
   },
   "outputs": [
    {
     "name": "stdout",
     "output_type": "stream",
     "text": [
      "Enter quantity\n",
      "11\n",
      "Cost is 990.0 (Discount is applied)\n"
     ]
    }
   ],
   "source": [
    "print(\"Enter quantity\")\n",
    "\n",
    "quantity = int(input())\n",
    "\n",
    "if quantity*100 > 1000:\n",
    "    print(\"Cost is\",((quantity*100)-(.1*quantity*100)),\"(Discount is applied)\")\n",
    "else:\n",
    "    print(\"Cost is\",quantity*100)"
   ]
  },
  {
   "cell_type": "markdown",
   "metadata": {},
   "source": [
    "## Question 5:\n",
    "Take input of age of 3 people by user and determine oldest among them."
   ]
  },
  {
   "cell_type": "code",
   "execution_count": 78,
   "metadata": {
    "ExecuteTime": {
     "end_time": "2020-02-01T07:51:03.678376Z",
     "start_time": "2020-02-01T07:50:56.977390Z"
    }
   },
   "outputs": [
    {
     "name": "stdout",
     "output_type": "stream",
     "text": [
      "Enter first age\n",
      "20\n",
      "Enter second age\n",
      "10\n",
      "third age\n",
      "30\n",
      "Oldest is 30\n"
     ]
    }
   ],
   "source": [
    "print(\"Enter first age\")\n",
    "first = int(input())\n",
    "\n",
    "print(\"Enter second age\")\n",
    "second = int(input())\n",
    "\n",
    "print(\"third age\")\n",
    "third = int(input())\n",
    "\n",
    "if first >= second and first >= third:\n",
    "    print(\"Oldest is\",first)\n",
    "    \n",
    "elif second >= first and second >= third:\n",
    "    print(\"Oldest is\",second)\n",
    "    \n",
    "elif third >= first and third >= second:\n",
    "    print(\"Oldest is\",third)\n",
    "\n",
    "else:\n",
    "    print (\"All are equal\")"
   ]
  },
  {
   "cell_type": "markdown",
   "metadata": {},
   "source": [
    "## Question 6:\n",
    "A student will not be allowed to sit in exam if his/her attendence is less than 75%.\n",
    "Take following input from a user:\n",
    "\n",
    "Number of classes held.\n",
    "\n",
    "Number of classes attended.\n",
    "\n",
    "And print percentage of class attended and is student is allowed to sit in exam or not?"
   ]
  },
  {
   "cell_type": "code",
   "execution_count": 82,
   "metadata": {
    "ExecuteTime": {
     "end_time": "2020-02-01T09:24:31.443206Z",
     "start_time": "2020-02-01T09:24:26.740260Z"
    },
    "scrolled": true
   },
   "outputs": [
    {
     "name": "stdout",
     "output_type": "stream",
     "text": [
      "Number of classes held\n",
      "100\n",
      "Number of classes attended\n",
      "60\n",
      "Attendence is 60.0\n",
      "Sorry, you are not allowed. Attend more classes from next time.\n"
     ]
    }
   ],
   "source": [
    "print(\"Number of classes held\")\n",
    "noh = int(input())\n",
    "\n",
    "print (\"Number of classes attended\")\n",
    "noa = int(input())\n",
    "\n",
    "atten = (noa/noh)*100\n",
    "\n",
    "print (\"Attendence is\",atten)\n",
    "if atten >= 75:\n",
    "    print(\"You are allowed to sit in exam\")\n",
    "else:\n",
    "    print(\"Sorry, you are not allowed. Attend more classes from next time.\")"
   ]
  },
  {
   "cell_type": "markdown",
   "metadata": {},
   "source": [
    "## Question 7:\n",
    "Find sum of arithmetic progression Series, this python program allows the user to enter the first value, the total number of items in a series, and the common difference."
   ]
  },
  {
   "cell_type": "code",
   "execution_count": 91,
   "metadata": {
    "ExecuteTime": {
     "end_time": "2020-02-01T09:54:20.399418Z",
     "start_time": "2020-02-01T09:54:08.561558Z"
    }
   },
   "outputs": [
    {
     "name": "stdout",
     "output_type": "stream",
     "text": [
      "Please Enter First Number of an A.P Series: : 2\n",
      "Please Enter the Total Numbers in this A.P Series: : 10\n",
      "Please Enter the Common Difference : 3\n",
      "\n",
      "The Sum of Arithmetic Progression Series =  155.0\n",
      "The tn Term of Arithmetic Progression Series =  29\n"
     ]
    }
   ],
   "source": [
    "# Python Program to find Sum of Arithmetic Progression Series\n",
    "\n",
    "a = int(input(\"Please Enter First Number of an A.P Series: : \"))\n",
    "n = int(input(\"Please Enter the Total Numbers in this A.P Series: : \"))\n",
    "d = int(input(\"Please Enter the Common Difference : \"))\n",
    "\n",
    "total = (n * (2 * a + (n - 1) * d)) / 2\n",
    "tn = a + (n - 1) * d\n",
    "\n",
    "print(\"\\nThe Sum of Arithmetic Progression Series = \" , total)\n",
    "print(\"The tn Term of Arithmetic Progression Series = \" , tn)"
   ]
  },
  {
   "cell_type": "markdown",
   "metadata": {},
   "source": [
    "## Question: 8\n",
    "Fibonacci Series:\n",
    "A Fibonacci sequence is the integer sequence of 0, 1, 1, 2, 3, 5, 8....\n",
    "\n",
    "The first two terms are 0 and 1. All other terms are obtained by adding the preceding two terms. This means to say the nth term is the sum of (n-1)th and (n-2)th term.\n",
    "\n",
    "Write a program to display the Fibonacci sequence up to n-th term provided by the user."
   ]
  },
  {
   "cell_type": "code",
   "execution_count": 108,
   "metadata": {
    "ExecuteTime": {
     "end_time": "2020-02-01T10:20:13.298150Z",
     "start_time": "2020-02-01T10:20:10.603001Z"
    }
   },
   "outputs": [
    {
     "name": "stdout",
     "output_type": "stream",
     "text": [
      "How many terms? 11\n",
      "Fibonacci sequence:\n",
      "0\n",
      "1\n",
      "1\n",
      "2\n",
      "3\n",
      "5\n",
      "8\n",
      "13\n",
      "21\n",
      "34\n",
      "55\n"
     ]
    }
   ],
   "source": [
    "# Program to display the Fibonacci sequence up to n-th term\n",
    "nterms = int(input(\"How many terms? \"))\n",
    "\n",
    "# first two terms\n",
    "n1, n2 = 0, 1\n",
    "count = 0\n",
    "# check if the number of terms is valid\n",
    "if nterms <= 0:\n",
    "    print(\"Please enter a positive integer\")\n",
    "elif nterms == 1:\n",
    "    print(\"Fibonacci sequence upto\",nterms,\":\")\n",
    "    print(n1)\n",
    "else:\n",
    "    print(\"Fibonacci sequence:\")\n",
    "    while count < nterms:\n",
    "        print(n1)\n",
    "        nth = n1 + n2\n",
    "        # update values\n",
    "        n1 = n2\n",
    "        n2 = nth\n",
    "        count += 1"
   ]
  },
  {
   "cell_type": "markdown",
   "metadata": {
    "ExecuteTime": {
     "end_time": "2020-02-01T10:00:49.064462Z",
     "start_time": "2020-02-01T10:00:49.007756Z"
    }
   },
   "source": [
    "## Questions: 9\n",
    "A positive integer greater than 1 which has no other factors except 1 and the number itself is called a prime number. 2, 3, 5, 7 etc. are prime numbers as they do not have any other factors. But 6 is not prime (it is composite) since, 2 x 3 = 6.\n",
    "\n",
    "Write a program to check if a number is prime or not?"
   ]
  },
  {
   "cell_type": "code",
   "execution_count": 107,
   "metadata": {
    "ExecuteTime": {
     "end_time": "2020-02-01T10:16:45.091634Z",
     "start_time": "2020-02-01T10:16:42.386951Z"
    },
    "code_folding": []
   },
   "outputs": [
    {
     "name": "stdout",
     "output_type": "stream",
     "text": [
      "Enter number: 11\n",
      "2\n",
      "3\n",
      "4\n",
      "5\n",
      "Number is prime\n"
     ]
    }
   ],
   "source": [
    "a=int(input(\"Enter number: \"))\n",
    "k=0\n",
    "for i in range(2,a//2+1):\n",
    "    print(i)\n",
    "    if(a%i==0):\n",
    "        k=k+1\n",
    "if(k<=0):\n",
    "    print(\"Number is prime\")\n",
    "else:\n",
    "    print(\"Number isn't prime\")"
   ]
  }
 ],
 "metadata": {
  "kernelspec": {
   "display_name": "Python 3",
   "language": "python",
   "name": "python3"
  },
  "language_info": {
   "codemirror_mode": {
    "name": "ipython",
    "version": 3
   },
   "file_extension": ".py",
   "mimetype": "text/x-python",
   "name": "python",
   "nbconvert_exporter": "python",
   "pygments_lexer": "ipython3",
   "version": "3.8.8"
  },
  "toc": {
   "base_numbering": 1,
   "nav_menu": {},
   "number_sections": true,
   "sideBar": true,
   "skip_h1_title": false,
   "title_cell": "Table of Contents",
   "title_sidebar": "Contents",
   "toc_cell": false,
   "toc_position": {
    "height": "calc(100% - 180px)",
    "left": "10px",
    "top": "150px",
    "width": "400.034px"
   },
   "toc_section_display": true,
   "toc_window_display": true
  }
 },
 "nbformat": 4,
 "nbformat_minor": 2
}
